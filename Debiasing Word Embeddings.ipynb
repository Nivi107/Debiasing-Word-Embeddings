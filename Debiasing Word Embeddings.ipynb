{
 "cells": [
  {
   "cell_type": "markdown",
   "metadata": {},
   "source": [
    "### Quantifying and Reducing Gender Stereotypes in Word Embeddings"
   ]
  },
  {
   "cell_type": "markdown",
   "metadata": {},
   "source": [
    "Ensuring fairness in algorithmically-driven decision-making is important to avoid inadvertent cases of bias and perpetuation of harmful stereotypes. However, modern natural language processing techniques, which learn model parameters based on data, might rely on implicit biases presented in the data to make undesirable stereotypical associations. Such a danger is facing us with word embedding, a popular framework to represent text data as vectors which has been used in many machine learning and natural language processing tasks. Recent results ([1](https://arxiv.org/abs/1607.06520), [2](https://arxiv.org/abs/1608.07187)) show that even word embeddings trained on Google News articles exhibit female/male gender stereotypes to a disturbing extent. This raises concerns because of their widespread use, as we describe, often tends to amplify these biases. \n",
    "\n",
    "In the following, we provide step-by-step instructions to demonstrate and quanitfy the biases in word embedding.\n",
    "\n"
   ]
  },
  {
   "cell_type": "code",
   "execution_count": 1,
   "metadata": {},
   "outputs": [],
   "source": [
    "# Setup:\n",
    "# Clone the code repository from https://github.com/tolga-b/debiaswe.git\n",
    "# mkdir debiaswe_tutorial\n",
    "# cd debiaswe_tutorial\n",
    "# git clone https://github.com/tolga-b/debiaswe.git\n",
    "\n",
    "# To reduce the time of downloading data, we provide as subset of GoogleNews-vectors in the following location:\n",
    "# https://drive.google.com/file/d/1NH6jcrg8SXbnhpIXRIXF_-KUE7wGxGaG/view?usp=sharing\n",
    "\n",
    "# For full embeddings:\n",
    "# Download embeddings at https://github.com/tolga-b/debiaswe and put them on the following directory\n",
    "# embeddings/GoogleNews-vectors-negative300-hard-debiased.bin\n",
    "# embeddings/GoogleNews-vectors-negative300.bin"
   ]
  },
  {
   "cell_type": "code",
   "execution_count": 18,
   "metadata": {},
   "outputs": [],
   "source": [
    "from __future__ import print_function, division\n",
    "%matplotlib inline\n",
    "from matplotlib import pyplot as plt\n",
    "import json\n",
    "import random\n",
    "import numpy as np\n",
    "\n",
    "import debiaswe as dwe\n",
    "import debiaswe.we as we\n",
    "from debiaswe.we import WordEmbedding\n",
    "from debiaswe.data import load_professions"
   ]
  },
  {
   "cell_type": "markdown",
   "metadata": {},
   "source": [
    "## Part 1: Gender Bias in Word Embedding\n",
    "\n",
    "\n",
    "### Step 1: Load data\n",
    "We first load the word embedding trained on a corpus of Google News texts consisting of 3 million English words and terms. The embedding maps each word into a 300-dimension vector. "
   ]
  },
  {
   "cell_type": "code",
   "execution_count": 19,
   "metadata": {},
   "outputs": [
    {
     "name": "stdout",
     "output_type": "stream",
     "text": [
      "*** Reading data from w2v_gnews_small.txt\n",
      "(26423, 300)\n",
      "26423 words of dimension 300 : in, for, that, is, ..., Jay, Leroy, Brad, Jermaine\n",
      "Loaded professions\n",
      "Format:\n",
      "word,\n",
      "definitional female -1.0 -> definitional male 1.0\n",
      "stereotypical female -1.0 -> stereotypical male 1.0\n"
     ]
    }
   ],
   "source": [
    "# load google news word2vec\n",
    "E = WordEmbedding('w2v_gnews_small.txt')\n",
    "\n",
    "# load professions\n",
    "professions = load_professions()\n",
    "profession_words = [p[0] for p in professions]"
   ]
  },
  {
   "cell_type": "markdown",
   "metadata": {},
   "source": [
    "### Step 2: Define gender direction\n",
    "\n",
    "We define gender direction by the direciton of she - he because they are frequent and do not have fewer alternative word senses (e.g., man can also refer to mankind). In the paper, we discuss alternative approach for defining gender direction (e.g., using PCA)."
   ]
  },
  {
   "cell_type": "code",
   "execution_count": 20,
   "metadata": {},
   "outputs": [],
   "source": [
    "# gender direction\n",
    "v_gender = E.diff('she', 'he')"
   ]
  },
  {
   "cell_type": "markdown",
   "metadata": {},
   "source": [
    "### Step 3: Generating analogies of \"Man: x :: Woman : y\"\n",
    "\n",
    "We show that the word embedding model generates gender-streotypical analogy pairs. \n",
    "To generate the analogy pairs, we use the analogy score defined in our paper. This score finds word pairs that are well aligned with gender direction as well as within a short distance from each other to preserve topic consistency. \n"
   ]
  },
  {
   "cell_type": "code",
   "execution_count": 21,
   "metadata": {},
   "outputs": [
    {
     "name": "stdout",
     "output_type": "stream",
     "text": [
      "Computing neighbors\n",
      "Mean: 10.219732808538016\n",
      "Median: 7.0\n",
      "she-he\n",
      "herself-himself\n",
      "her-his\n",
      "woman-man\n",
      "daughter-son\n",
      "businesswoman-businessman\n",
      "girl-boy\n",
      "actress-actor\n",
      "chairwoman-chairman\n",
      "heroine-hero\n",
      "mother-father\n",
      "spokeswoman-spokesman\n",
      "sister-brother\n",
      "girls-boys\n",
      "sisters-brothers\n",
      "queen-king\n",
      "niece-nephew\n",
      "councilwoman-councilman\n",
      "motherhood-fatherhood\n",
      "women-men\n",
      "petite-lanky\n",
      "ovarian_cancer-prostate_cancer\n",
      "Anne-John\n",
      "schoolgirl-schoolboy\n",
      "granddaughter-grandson\n",
      "aunt-uncle\n",
      "matriarch-patriarch\n",
      "twin_sister-twin_brother\n",
      "mom-dad\n",
      "lesbian-gay\n",
      "husband-younger_brother\n",
      "gal-dude\n",
      "lady-gentleman\n",
      "sorority-fraternity\n",
      "mothers-fathers\n",
      "grandmother-grandfather\n",
      "blouse-shirt\n",
      "soprano-baritone\n",
      "queens-kings\n",
      "Jill-Greg\n",
      "daughters-sons\n",
      "grandma-grandpa\n",
      "volleyball-football\n",
      "diva-superstar\n",
      "mommy-kid\n",
      "Sarah-Matthew\n",
      "hairdresser-barber\n",
      "softball-baseball\n",
      "goddess-god\n",
      "Aisha-Jamal\n",
      "waitress-waiter\n",
      "princess-prince\n",
      "filly-colt\n",
      "mare-gelding\n",
      "ladies-gentlemen\n",
      "childhood-boyhood\n",
      "interior_designer-architect\n",
      "nun-priest\n",
      "wig-beard\n",
      "granddaughters-grandsons\n",
      "girlfriends-buddies\n",
      "gals-dudes\n",
      "aunts-uncles\n",
      "congresswoman-congressman\n",
      "feminism-conservatism\n",
      "bitch-bastard\n",
      "hers-yours\n",
      "bra-pants\n",
      "moms-dads\n",
      "nurse-surgeon\n",
      "heiress-magnate\n",
      "feminine-manly\n",
      "glamorous-flashy\n",
      "actresses-actors\n",
      "registered_nurse-physician\n",
      "cupcakes-pizzas\n",
      "blond-burly\n",
      "babe-fella\n",
      "mums-blokes\n",
      "gorgeous-magnificent\n",
      "compatriot-countryman\n",
      "fabulous-terrific\n",
      "breast-prostate\n",
      "starlet-youngster\n",
      "Laurie-Brett\n",
      "kids-guys\n",
      "sewing-carpentry\n",
      "kinda-guy\n",
      "headscarf-turban\n",
      "siblings-elder_brother\n",
      "charming-affable\n",
      "sassy-snappy\n",
      "cosmetics-pharmaceuticals\n",
      "estrogen-testosterone\n",
      "handbag-briefcase\n",
      "housewife-shopkeeper\n",
      "fillies-colts\n",
      "nieces-nephews\n",
      "whore-coward\n",
      "boyfriend-pal\n",
      "salon-barbershop\n",
      "Latonya-Leroy\n",
      "vagina-penis\n",
      "breast_cancer-lymphoma\n",
      "vocalist-guitarist\n",
      "me-him\n",
      "children-youngsters\n",
      "adorable-goofy\n",
      "giggling-grinning\n",
      "cheerful-jovial\n",
      "lovely-brilliant\n",
      "giggle-chuckle\n",
      "bras-trousers\n",
      "wedding_dress-tuxedo\n",
      "singer-frontman\n",
      "netball-rugby\n",
      "rebounder-playmaker\n",
      "vocalists-trumpeter\n",
      "nude-shirtless\n",
      "beautiful-majestic\n",
      "feisty-mild_mannered\n",
      "feminists-socialists\n",
      "nanny-chauffeur\n",
      "females-males\n",
      "pediatrician-orthopedic_surgeon\n",
      "teenage_girls-youths\n",
      "pink-red\n",
      "convent-monastery\n",
      "midwife-doctor\n",
      "feminist-liberal\n",
      "gown-blazer\n",
      "blonde-blond\n",
      "stepdaughter-stepson\n",
      "wonderful-great\n",
      "breasts-genitals\n",
      "luscious-crisp\n",
      "judgmental-arrogant\n",
      "skirts-shorts\n",
      "middle_aged-bearded\n",
      "spokespeople-spokesmen\n",
      "female-male\n",
      "beauty-grandeur\n",
      "salesperson-salesman\n",
      "witch-demon\n",
      "male_counterparts-counterparts\n",
      "violinist-virtuoso\n",
      "practicality-durability\n",
      "boobs-ass\n",
      "dolls-replicas\n",
      "husbands-wives\n",
      "ponytail-mustache\n",
      "sexism-racism\n",
      "mammogram-colonoscopy\n",
      "sweater-jersey\n",
      "hysterical-comical\n",
      "uterus-intestine\n",
      "rehearse-improvise\n",
      "classmates-teammates\n",
      "stroller-bicycle\n",
      "presenter-broadcaster\n",
      "friends-buddy\n",
      "dresses-shirts\n",
      "eating_disorders-alcoholism\n",
      "kindness-humility\n",
      "cute-clever\n",
      "sobbed-grinned\n",
      "baking-roasting\n",
      "sweaters-jerseys\n",
      "crafting-drafting\n",
      "nuns-monk\n",
      "lesbians-homosexual\n",
      "guidance_counselor-headmaster\n",
      "terrifying-fearsome\n",
      "libero-midfielders\n",
      "classmate-teammate\n",
      "underclassmen-players\n",
      "pianist-maestro\n",
      "boyfriends-friends\n",
      "teenager-lad\n",
      "giggles-chuckles\n",
      "gender-racial\n",
      "hair_salon-pizzeria\n",
      "pitcher-starter\n",
      "lovers-aficionados\n",
      "lingerie-menswear\n",
      "kittens-neutered\n",
      "latex-rubber\n",
      "dress-garb\n",
      "alluring-intriguing\n",
      "buns-sausages\n",
      "cosmetic_surgery-surgery\n",
      "foal-stallion\n",
      "sexy-nerdy\n",
      "delightful-superb\n",
      "cubs-lions\n",
      "self_esteem-morale\n",
      "rower-skipper\n",
      "bingo-gambling\n",
      "figure_skating-hockey\n",
      "stepmother-eldest_son\n",
      "swimwear-sportswear\n",
      "teen-youth\n",
      "gymnastics-weightlifting\n",
      "tissues-cartilage\n",
      "enchanting-splendid\n",
      "hooker-winger\n",
      "graphic_designer-carpenter\n",
      "layups-downfield\n",
      "sophomores-rookies\n",
      "singers-guitarists\n",
      "backcourt-playmakers\n",
      "hugs-shook_hands\n",
      "sexist-racist\n",
      "cheesecake-pizza\n",
      "sultry-mellow\n",
      "silicone-polymer\n",
      "gymnasts-athletes\n",
      "ribbons-flags\n",
      "captivating-electrifying\n",
      "gymnast-athlete\n",
      "cried-chuckled\n",
      "ethereal-brooding\n",
      "cats-pigeons\n",
      "implants-stents\n",
      "cougar-wolves\n",
      "fiance-cousin\n",
      "cheery-amiable\n",
      "servicemen-veterans\n",
      "hair-facial_hair\n",
      "sophomore-pounder\n",
      "midwives-doctors\n",
      "chairperson-managing_director\n",
      "meter_hurdles-yard_dash\n",
      "scream-boo\n",
      "glam-retro\n",
      "terrified-mad\n",
      "shrill-louder\n",
      "lupus-multiple_myeloma\n",
      "uptight-cocky\n",
      "hubby-pals\n",
      "exclaimed-quipped\n",
      "choreography-footwork\n",
      "veil-cloak\n",
      "panties-socks\n",
      "gowns-robes\n",
      "designers-architects\n",
      "foul_trouble-defensively\n",
      "amazing-unbelievable\n",
      "artistry-genius\n",
      "sensual-moody\n",
      "campers-camp\n",
      "Allison-Todd\n",
      "freaking-heck\n",
      "intuition-gut_feeling\n",
      "eating_disorder-addiction\n",
      "frontcourt-swingman\n",
      "hostess-bartender\n",
      "child_endangerment-aggravated_assault\n",
      "masculine-macho\n",
      "novelist-philosopher\n",
      "putback-yarder\n",
      "ex_boyfriend-ex_girlfriend\n",
      "incredibly-obviously\n",
      "beautify-rehabilitate\n",
      "designed-engineered\n",
      "mares-thoroughbred\n",
      "satin-leather\n",
      "hurler-lefthander\n",
      "bun-burger\n",
      "heartbreaking-humbling\n",
      "romantic_comedy-flick\n",
      "fourteen-eleven\n",
      "flight_attendant-pilots\n",
      "cupcake-donut\n",
      "glitter-confetti\n",
      "sobbing-smiled\n",
      "unassisted_goal-powerplay\n",
      "memoir-autobiography\n",
      "cigarette-cigar\n",
      "animal_cruelty-dogfighting\n",
      "baby-daddy\n",
      "outfits-uniforms\n",
      "bride-groom\n",
      "sprinter-speedster\n",
      "estranged_husband-stepfather\n",
      "singer_songwriter-musician\n",
      "entrepreneurs-businessmen\n",
      "grad-alumnus\n",
      "lover-enthusiast\n",
      "celebrities-superstars\n",
      "kissing-shaking_hands\n",
      "auditions-tryout\n",
      "backstretch-straightaway\n",
      "pregnancy-gestation\n",
      "librarian-curator\n",
      "anime-videogames\n",
      "heartbroken-dejected\n",
      "cervical_cancer-pancreatic_cancer\n",
      "regionals-playoffs\n",
      "Carrie-Laurie\n",
      "teenage_girl-teenager\n",
      "coworkers-colleagues\n",
      "sergeants-lieutenants\n",
      "paralegal-accountant\n",
      "stressful-frustrating\n",
      "duets-saxophonist\n",
      "plucky-hapless\n",
      "realtor-builder\n",
      "cocktails-beers\n",
      "closets-lockers\n",
      "doubleheader-game\n",
      "thighs-backside\n",
      "wellness-fitness\n",
      "giant_slalom-skied\n",
      "neurotic-eccentric\n",
      "coordinator-manager\n",
      "antiques-memorabilia\n",
      "dancers-drummers\n",
      "layup-touchdown_pass\n",
      "manga-comic_books\n",
      "horrified-disappointed\n",
      "empowering-motivating\n",
      "creepy-menacing\n",
      "insecurities-frustrations\n",
      "middle_blocker-leadoff_hitter\n",
      "adored-revered\n",
      "exercises-drills\n",
      "skirted-evaded\n",
      "jewelry-collectibles\n",
      "choral-composer\n",
      "confided-intimated\n",
      "dermatologist-neurosurgeon\n",
      "attractiveness-competitiveness\n",
      "housekeeper-janitor\n",
      "thyroid-inflammation\n",
      "vocals-drummer\n",
      "scarf-jacket\n",
      "burlesque-rock_n_roll\n",
      "athlete-player\n",
      "chic-minimalist\n",
      "cerebral_palsy-spinal_cord_injury\n",
      "horrid-woeful\n",
      "transgender-homophobic\n",
      "clique-inner_circle\n",
      "pampering-luxurious\n",
      "associate_professor-professor_emeritus\n",
      "sexuality-homosexuality\n",
      "reunite-rejoin\n",
      "caring-selfless\n",
      "freshman-redshirt_freshman\n",
      "plunging-slumping\n",
      "spokesperson-statement\n",
      "prostitution-drug_trafficking\n",
      "characters-villain\n",
      "therapist-neurologist\n",
      "maids-servants\n",
      "mama-ya\n",
      "delightfully-brilliantly\n",
      "boutiques-retail_outlets\n",
      "hormonal-metabolism\n",
      "puppy-bulldog\n",
      "pinch_runner-pinch_hitter\n",
      "behaviors-tendencies\n",
      "appalled-displeased\n",
      "forms-form\n",
      "nonprofit-organization\n",
      "tamoxifen-statins\n",
      "mysterious-enigmatic\n",
      "maternity-obstetrics\n",
      "mentors-mentor\n",
      "worker-foreman\n",
      "anorexia-depression\n",
      "critters-beasts\n",
      "feline-rodent\n",
      "stereotype-mentality\n",
      "starvation-famine\n",
      "fairy-magical\n",
      "gossip-rumor_mill\n",
      "confesses-concedes\n",
      "activists-supporters\n",
      "flower-ornamental\n",
      "contests-games\n",
      "procuring-acquiring\n",
      "silver_medalist-compatriot\n",
      "purse-wallet\n",
      "nurses-physicians\n",
      "sectionals-championship\n",
      "refill-recharge\n",
      "inadequate-ineffective\n",
      "prettiest-finest\n",
      "seatbelt-wearing_helmet\n",
      "rehearsal-improvisation\n",
      "interns-fellows\n",
      "adds-added\n",
      "harmonies-guitar\n",
      "comfy-comfortable\n",
      "menopause-heart_disease\n",
      "scripture-disciples\n",
      "cries-chants\n",
      "experimenting-tinkering\n",
      "underweight-underperform\n",
      "holistic_approach-approach\n",
      "costumes-props\n",
      "curves-curve\n",
      "bartender-bouncer\n",
      "seductive-mesmerizing\n",
      "clarinet-trombone\n",
      "transformative-visionary\n",
      "ok-alright\n",
      "unusual-unorthodox\n",
      "osteoporosis-atrial_fibrillation\n",
      "screams-roar\n",
      "incumbents-incumbent\n",
      "baseman-offensive_lineman\n",
      "strawberry-potato\n",
      "steals-tackles\n",
      "walker-crutches\n",
      "cook-grill\n",
      "workshop-meeting\n",
      "elegance-style\n",
      "emotionally-mentally\n",
      "beloved-legendary\n",
      "breast_milk-sperm\n",
      "minivan-pickup\n",
      "complainants-accusers\n",
      "knitting-yarn\n",
      "artisans-craftsmen\n",
      "strollers-scooters\n",
      "caseload-workload\n",
      "smile-grin\n",
      "helpful-useful\n",
      "caretakers-caretaker\n",
      "blokes-bloke\n",
      "provocative-incendiary\n",
      "ultrasound-x_ray\n",
      "colorful-flamboyant\n",
      "counselor-adviser\n",
      "borrower-loan\n",
      "brightness-sharpness\n",
      "staffing-manpower\n",
      "overwhelmed-frustrated\n",
      "bowlers-seamer\n",
      "bunny-monkey\n",
      "devotion-allegiance\n",
      "advocates-critics\n",
      "brides-weddings\n",
      "cigarettes-cigars\n",
      "dancer-entertainer\n",
      "relationships-rapport\n",
      "attitudes-mindset\n",
      "strives-wants\n",
      "bearish-bullish\n",
      "deadlines-deadline\n",
      "proponents-detractors\n",
      "pitchers-ballclub\n",
      "carriages-locomotive\n",
      "shortstop-fullback\n",
      "exhibit-exhibition\n",
      "credit_crunch-slump\n",
      "watchers-pundits\n",
      "hitter-southpaw\n",
      "scary-dangerous\n",
      "silver_medals-championships\n",
      "expiration_date-expires\n",
      "tenacious-hard_nosed\n",
      "gosh-yeah\n",
      "bright_colors-colors\n",
      "retro-throwback\n",
      "underpass-tunnel\n",
      "thrilled-confident\n",
      "warship-destroyer\n",
      "resignations-resignation\n",
      "reaffirmed-reiterated\n",
      "technical_fouls-ejection\n",
      "sheets-sheet\n",
      "makeover-revamp\n",
      "bookkeeper-treasurer\n",
      "callous-foolish\n",
      "dignified-honorable\n",
      "elegantly-superbly\n",
      "foods-foodstuffs\n",
      "cashier-robber\n",
      "assistant_professor-economics_professor\n",
      "downsize-restructure\n",
      "details-specifics\n",
      "healthful-healthy\n",
      "luminous-dazzling\n",
      "charm-swagger\n",
      "pastry-sausage\n",
      "free_throws-recovered_fumble\n",
      "naysayers-doubters\n",
      "embryo-embryonic\n",
      "stalker-pedophile\n",
      "hormones-growth_hormone\n",
      "irresponsibility-recklessness\n",
      "intangible_assets-intangibles\n",
      "descriptive-succinct\n",
      "screamed-shouted\n",
      "manipulative-devious\n",
      "audio_replay-replay\n"
     ]
    }
   ],
   "source": [
    "# analogies gender\n",
    "a_gender = E.best_analogies_dist_thresh(v_gender)\n",
    "\n",
    "for (a,b,c) in a_gender:\n",
    "    print(a+\"-\"+b)"
   ]
  },
  {
   "cell_type": "markdown",
   "metadata": {},
   "source": [
    "### She occupations and corresponding He occupation signalling the bias"
   ]
  },
  {
   "cell_type": "code",
   "execution_count": 22,
   "metadata": {},
   "outputs": [
    {
     "name": "stdout",
     "output_type": "stream",
     "text": [
      "hairdresser-barber-0.4368279\n",
      "nurse-surgeon-0.37444478\n",
      "sewing-carpentry-0.35139665\n",
      "nanny-chauffeur-0.30954373\n",
      "librarian-curator-0.2307742\n",
      "housekeeper-janitor-0.22288004\n",
      "bookkeeper-treasurer-0.20113158\n"
     ]
    }
   ],
   "source": [
    "she_occupation = ['homemaker', 'nurse', 'receptionist', 'librarian', 'socialite', 'hairdresser', \n",
    "'nanny', 'bookkeeper', 'stylist', 'housekeeper', 'interior designer', 'sewing']\n",
    "\n",
    "for (a,b,c) in a_gender:\n",
    "    if a in she_occupation:\n",
    "        print(a+\"-\"+b+\"-\"+str(c))"
   ]
  },
  {
   "cell_type": "markdown",
   "metadata": {},
   "source": [
    "### Step 4: Analyzing gender bias in word vectors asscoiated with professions\n",
    "\n",
    "Next, we show that many occupations are unintendedly associated with either male of female by projecting their word vectors onto the gender dimension. \n",
    "\n",
    "The script will output the profession words sorted with respect to the projection score in the direction of gender."
   ]
  },
  {
   "cell_type": "code",
   "execution_count": 23,
   "metadata": {},
   "outputs": [
    {
     "data": {
      "text/plain": [
       "([(-0.23798442, 'maestro'),\n",
       "  (-0.21665451, 'statesman'),\n",
       "  (-0.2075867, 'skipper'),\n",
       "  (-0.20267202, 'protege'),\n",
       "  (-0.2020676, 'businessman'),\n",
       "  (-0.19492392, 'sportsman'),\n",
       "  (-0.18836352, 'philosopher'),\n",
       "  (-0.18073659, 'marksman'),\n",
       "  (-0.1728986, 'captain'),\n",
       "  (-0.16785558, 'architect'),\n",
       "  (-0.16702037, 'financier'),\n",
       "  (-0.16313638, 'warrior'),\n",
       "  (-0.15280862, 'major_leaguer'),\n",
       "  (-0.15001443, 'trumpeter'),\n",
       "  (-0.14718868, 'broadcaster'),\n",
       "  (-0.14637241, 'magician'),\n",
       "  (-0.14401694, 'fighter_pilot'),\n",
       "  (-0.13782284, 'boss'),\n",
       "  (-0.137182, 'industrialist'),\n",
       "  (-0.13684885, 'pundit')],\n",
       " [(0.19714224, 'interior_designer'),\n",
       "  (0.2083344, 'housekeeper'),\n",
       "  (0.21560377, 'stylist'),\n",
       "  (0.2236317, 'bookkeeper'),\n",
       "  (0.23776126, 'maid'),\n",
       "  (0.24125955, 'nun'),\n",
       "  (0.2478258, 'nanny'),\n",
       "  (0.24929331, 'hairdresser'),\n",
       "  (0.24946159, 'paralegal'),\n",
       "  (0.25276464, 'ballerina'),\n",
       "  (0.25718823, 'socialite'),\n",
       "  (0.26647124, 'librarian'),\n",
       "  (0.27317625, 'receptionist'),\n",
       "  (0.2754029, 'waitress'),\n",
       "  (0.28085968, 'nurse'),\n",
       "  (0.3042623, 'registered_nurse'),\n",
       "  (0.3043797, 'homemaker'),\n",
       "  (0.3403659, 'housewife'),\n",
       "  (0.3523514, 'actress'),\n",
       "  (0.35965404, 'businesswoman')])"
      ]
     },
     "execution_count": 23,
     "metadata": {},
     "output_type": "execute_result"
    }
   ],
   "source": [
    "# profession analysis gender\n",
    "sp = sorted([(E.v(w).dot(v_gender), w) for w in profession_words])\n",
    "\n",
    "sp[0:20], sp[-20:]"
   ]
  },
  {
   "cell_type": "markdown",
   "metadata": {},
   "source": [
    "### Gender Bias in Profession\n",
    " #He professions are on the negative side of x-axis\n",
    " #She professions are on the positive side of x-axis"
   ]
  },
  {
   "cell_type": "code",
   "execution_count": 24,
   "metadata": {},
   "outputs": [],
   "source": [
    "from plots import *"
   ]
  },
  {
   "cell_type": "code",
   "execution_count": 25,
   "metadata": {},
   "outputs": [
    {
     "data": {
      "application/vnd.plotly.v1+json": {
       "config": {
        "plotlyServerURL": "https://plot.ly"
       },
       "data": [
        {
         "mode": "markers+text",
         "name": "Markers and Text",
         "text": [
          "maestro",
          "statesman",
          "skipper",
          "protege",
          "businessman",
          "sportsman",
          "philosopher",
          "marksman",
          "captain",
          "architect",
          "financier",
          "warrior",
          "major_leaguer",
          "trumpeter",
          "broadcaster",
          "magician",
          "fighter_pilot",
          "boss",
          "industrialist",
          "pundit",
          "interior_designer",
          "housekeeper",
          "stylist",
          "bookkeeper",
          "maid",
          "nun",
          "nanny",
          "hairdresser",
          "paralegal",
          "ballerina",
          "socialite",
          "librarian",
          "receptionist",
          "waitress",
          "nurse",
          "registered_nurse",
          "homemaker",
          "housewife",
          "actress",
          "businesswoman"
         ],
         "textposition": "bottom center",
         "type": "scatter",
         "x": [
          -1,
          -0.9487179487179487,
          -0.8974358974358975,
          -0.8461538461538461,
          -0.7948717948717949,
          -0.7435897435897436,
          -0.6923076923076923,
          -0.641025641025641,
          -0.5897435897435898,
          -0.5384615384615385,
          -0.4871794871794872,
          -0.4358974358974359,
          -0.3846153846153846,
          -0.33333333333333337,
          -0.28205128205128205,
          -0.23076923076923084,
          -0.17948717948717952,
          -0.1282051282051282,
          -0.07692307692307698,
          -0.02564102564102566,
          0.02564102564102555,
          0.07692307692307687,
          0.1282051282051282,
          0.17948717948717952,
          0.23076923076923084,
          0.28205128205128194,
          0.33333333333333326,
          0.3846153846153846,
          0.4358974358974359,
          0.4871794871794872,
          0.5384615384615383,
          0.5897435897435896,
          0.641025641025641,
          0.6923076923076923,
          0.7435897435897436,
          0.7948717948717947,
          0.846153846153846,
          0.8974358974358974,
          0.9487179487179487,
          1
         ],
         "y": [
          -0.23798441886901855,
          -0.21665450930595398,
          -0.20758670568466187,
          -0.20267201960086823,
          -0.20206759870052338,
          -0.19492392241954803,
          -0.18836352229118347,
          -0.18073658645153046,
          -0.17289860546588898,
          -0.16785557568073273,
          -0.16702036559581757,
          -0.16313637793064117,
          -0.15280862152576447,
          -0.15001443028450012,
          -0.1471886783838272,
          -0.14637240767478943,
          -0.14401693642139435,
          -0.13782283663749695,
          -0.13718199729919434,
          -0.13684885203838348,
          0.19714224338531494,
          0.20833440124988556,
          0.215603768825531,
          0.22363169491291046,
          0.2377612590789795,
          0.24125954508781433,
          0.24782580137252808,
          0.24929331243038177,
          0.2494615912437439,
          0.25276464223861694,
          0.25718823075294495,
          0.2664712369441986,
          0.27317625284194946,
          0.27540290355682373,
          0.28085967898368835,
          0.30426231026649475,
          0.3043797016143799,
          0.3403658866882324,
          0.3523513972759247,
          0.359654039144516
         ]
        }
       ],
       "layout": {
        "height": 1000,
        "template": {
         "data": {
          "bar": [
           {
            "error_x": {
             "color": "#2a3f5f"
            },
            "error_y": {
             "color": "#2a3f5f"
            },
            "marker": {
             "line": {
              "color": "#E5ECF6",
              "width": 0.5
             },
             "pattern": {
              "fillmode": "overlay",
              "size": 10,
              "solidity": 0.2
             }
            },
            "type": "bar"
           }
          ],
          "barpolar": [
           {
            "marker": {
             "line": {
              "color": "#E5ECF6",
              "width": 0.5
             },
             "pattern": {
              "fillmode": "overlay",
              "size": 10,
              "solidity": 0.2
             }
            },
            "type": "barpolar"
           }
          ],
          "carpet": [
           {
            "aaxis": {
             "endlinecolor": "#2a3f5f",
             "gridcolor": "white",
             "linecolor": "white",
             "minorgridcolor": "white",
             "startlinecolor": "#2a3f5f"
            },
            "baxis": {
             "endlinecolor": "#2a3f5f",
             "gridcolor": "white",
             "linecolor": "white",
             "minorgridcolor": "white",
             "startlinecolor": "#2a3f5f"
            },
            "type": "carpet"
           }
          ],
          "choropleth": [
           {
            "colorbar": {
             "outlinewidth": 0,
             "ticks": ""
            },
            "type": "choropleth"
           }
          ],
          "contour": [
           {
            "colorbar": {
             "outlinewidth": 0,
             "ticks": ""
            },
            "colorscale": [
             [
              0,
              "#0d0887"
             ],
             [
              0.1111111111111111,
              "#46039f"
             ],
             [
              0.2222222222222222,
              "#7201a8"
             ],
             [
              0.3333333333333333,
              "#9c179e"
             ],
             [
              0.4444444444444444,
              "#bd3786"
             ],
             [
              0.5555555555555556,
              "#d8576b"
             ],
             [
              0.6666666666666666,
              "#ed7953"
             ],
             [
              0.7777777777777778,
              "#fb9f3a"
             ],
             [
              0.8888888888888888,
              "#fdca26"
             ],
             [
              1,
              "#f0f921"
             ]
            ],
            "type": "contour"
           }
          ],
          "contourcarpet": [
           {
            "colorbar": {
             "outlinewidth": 0,
             "ticks": ""
            },
            "type": "contourcarpet"
           }
          ],
          "heatmap": [
           {
            "colorbar": {
             "outlinewidth": 0,
             "ticks": ""
            },
            "colorscale": [
             [
              0,
              "#0d0887"
             ],
             [
              0.1111111111111111,
              "#46039f"
             ],
             [
              0.2222222222222222,
              "#7201a8"
             ],
             [
              0.3333333333333333,
              "#9c179e"
             ],
             [
              0.4444444444444444,
              "#bd3786"
             ],
             [
              0.5555555555555556,
              "#d8576b"
             ],
             [
              0.6666666666666666,
              "#ed7953"
             ],
             [
              0.7777777777777778,
              "#fb9f3a"
             ],
             [
              0.8888888888888888,
              "#fdca26"
             ],
             [
              1,
              "#f0f921"
             ]
            ],
            "type": "heatmap"
           }
          ],
          "heatmapgl": [
           {
            "colorbar": {
             "outlinewidth": 0,
             "ticks": ""
            },
            "colorscale": [
             [
              0,
              "#0d0887"
             ],
             [
              0.1111111111111111,
              "#46039f"
             ],
             [
              0.2222222222222222,
              "#7201a8"
             ],
             [
              0.3333333333333333,
              "#9c179e"
             ],
             [
              0.4444444444444444,
              "#bd3786"
             ],
             [
              0.5555555555555556,
              "#d8576b"
             ],
             [
              0.6666666666666666,
              "#ed7953"
             ],
             [
              0.7777777777777778,
              "#fb9f3a"
             ],
             [
              0.8888888888888888,
              "#fdca26"
             ],
             [
              1,
              "#f0f921"
             ]
            ],
            "type": "heatmapgl"
           }
          ],
          "histogram": [
           {
            "marker": {
             "pattern": {
              "fillmode": "overlay",
              "size": 10,
              "solidity": 0.2
             }
            },
            "type": "histogram"
           }
          ],
          "histogram2d": [
           {
            "colorbar": {
             "outlinewidth": 0,
             "ticks": ""
            },
            "colorscale": [
             [
              0,
              "#0d0887"
             ],
             [
              0.1111111111111111,
              "#46039f"
             ],
             [
              0.2222222222222222,
              "#7201a8"
             ],
             [
              0.3333333333333333,
              "#9c179e"
             ],
             [
              0.4444444444444444,
              "#bd3786"
             ],
             [
              0.5555555555555556,
              "#d8576b"
             ],
             [
              0.6666666666666666,
              "#ed7953"
             ],
             [
              0.7777777777777778,
              "#fb9f3a"
             ],
             [
              0.8888888888888888,
              "#fdca26"
             ],
             [
              1,
              "#f0f921"
             ]
            ],
            "type": "histogram2d"
           }
          ],
          "histogram2dcontour": [
           {
            "colorbar": {
             "outlinewidth": 0,
             "ticks": ""
            },
            "colorscale": [
             [
              0,
              "#0d0887"
             ],
             [
              0.1111111111111111,
              "#46039f"
             ],
             [
              0.2222222222222222,
              "#7201a8"
             ],
             [
              0.3333333333333333,
              "#9c179e"
             ],
             [
              0.4444444444444444,
              "#bd3786"
             ],
             [
              0.5555555555555556,
              "#d8576b"
             ],
             [
              0.6666666666666666,
              "#ed7953"
             ],
             [
              0.7777777777777778,
              "#fb9f3a"
             ],
             [
              0.8888888888888888,
              "#fdca26"
             ],
             [
              1,
              "#f0f921"
             ]
            ],
            "type": "histogram2dcontour"
           }
          ],
          "mesh3d": [
           {
            "colorbar": {
             "outlinewidth": 0,
             "ticks": ""
            },
            "type": "mesh3d"
           }
          ],
          "parcoords": [
           {
            "line": {
             "colorbar": {
              "outlinewidth": 0,
              "ticks": ""
             }
            },
            "type": "parcoords"
           }
          ],
          "pie": [
           {
            "automargin": true,
            "type": "pie"
           }
          ],
          "scatter": [
           {
            "fillpattern": {
             "fillmode": "overlay",
             "size": 10,
             "solidity": 0.2
            },
            "type": "scatter"
           }
          ],
          "scatter3d": [
           {
            "line": {
             "colorbar": {
              "outlinewidth": 0,
              "ticks": ""
             }
            },
            "marker": {
             "colorbar": {
              "outlinewidth": 0,
              "ticks": ""
             }
            },
            "type": "scatter3d"
           }
          ],
          "scattercarpet": [
           {
            "marker": {
             "colorbar": {
              "outlinewidth": 0,
              "ticks": ""
             }
            },
            "type": "scattercarpet"
           }
          ],
          "scattergeo": [
           {
            "marker": {
             "colorbar": {
              "outlinewidth": 0,
              "ticks": ""
             }
            },
            "type": "scattergeo"
           }
          ],
          "scattergl": [
           {
            "marker": {
             "colorbar": {
              "outlinewidth": 0,
              "ticks": ""
             }
            },
            "type": "scattergl"
           }
          ],
          "scattermapbox": [
           {
            "marker": {
             "colorbar": {
              "outlinewidth": 0,
              "ticks": ""
             }
            },
            "type": "scattermapbox"
           }
          ],
          "scatterpolar": [
           {
            "marker": {
             "colorbar": {
              "outlinewidth": 0,
              "ticks": ""
             }
            },
            "type": "scatterpolar"
           }
          ],
          "scatterpolargl": [
           {
            "marker": {
             "colorbar": {
              "outlinewidth": 0,
              "ticks": ""
             }
            },
            "type": "scatterpolargl"
           }
          ],
          "scatterternary": [
           {
            "marker": {
             "colorbar": {
              "outlinewidth": 0,
              "ticks": ""
             }
            },
            "type": "scatterternary"
           }
          ],
          "surface": [
           {
            "colorbar": {
             "outlinewidth": 0,
             "ticks": ""
            },
            "colorscale": [
             [
              0,
              "#0d0887"
             ],
             [
              0.1111111111111111,
              "#46039f"
             ],
             [
              0.2222222222222222,
              "#7201a8"
             ],
             [
              0.3333333333333333,
              "#9c179e"
             ],
             [
              0.4444444444444444,
              "#bd3786"
             ],
             [
              0.5555555555555556,
              "#d8576b"
             ],
             [
              0.6666666666666666,
              "#ed7953"
             ],
             [
              0.7777777777777778,
              "#fb9f3a"
             ],
             [
              0.8888888888888888,
              "#fdca26"
             ],
             [
              1,
              "#f0f921"
             ]
            ],
            "type": "surface"
           }
          ],
          "table": [
           {
            "cells": {
             "fill": {
              "color": "#EBF0F8"
             },
             "line": {
              "color": "white"
             }
            },
            "header": {
             "fill": {
              "color": "#C8D4E3"
             },
             "line": {
              "color": "white"
             }
            },
            "type": "table"
           }
          ]
         },
         "layout": {
          "annotationdefaults": {
           "arrowcolor": "#2a3f5f",
           "arrowhead": 0,
           "arrowwidth": 1
          },
          "autotypenumbers": "strict",
          "coloraxis": {
           "colorbar": {
            "outlinewidth": 0,
            "ticks": ""
           }
          },
          "colorscale": {
           "diverging": [
            [
             0,
             "#8e0152"
            ],
            [
             0.1,
             "#c51b7d"
            ],
            [
             0.2,
             "#de77ae"
            ],
            [
             0.3,
             "#f1b6da"
            ],
            [
             0.4,
             "#fde0ef"
            ],
            [
             0.5,
             "#f7f7f7"
            ],
            [
             0.6,
             "#e6f5d0"
            ],
            [
             0.7,
             "#b8e186"
            ],
            [
             0.8,
             "#7fbc41"
            ],
            [
             0.9,
             "#4d9221"
            ],
            [
             1,
             "#276419"
            ]
           ],
           "sequential": [
            [
             0,
             "#0d0887"
            ],
            [
             0.1111111111111111,
             "#46039f"
            ],
            [
             0.2222222222222222,
             "#7201a8"
            ],
            [
             0.3333333333333333,
             "#9c179e"
            ],
            [
             0.4444444444444444,
             "#bd3786"
            ],
            [
             0.5555555555555556,
             "#d8576b"
            ],
            [
             0.6666666666666666,
             "#ed7953"
            ],
            [
             0.7777777777777778,
             "#fb9f3a"
            ],
            [
             0.8888888888888888,
             "#fdca26"
            ],
            [
             1,
             "#f0f921"
            ]
           ],
           "sequentialminus": [
            [
             0,
             "#0d0887"
            ],
            [
             0.1111111111111111,
             "#46039f"
            ],
            [
             0.2222222222222222,
             "#7201a8"
            ],
            [
             0.3333333333333333,
             "#9c179e"
            ],
            [
             0.4444444444444444,
             "#bd3786"
            ],
            [
             0.5555555555555556,
             "#d8576b"
            ],
            [
             0.6666666666666666,
             "#ed7953"
            ],
            [
             0.7777777777777778,
             "#fb9f3a"
            ],
            [
             0.8888888888888888,
             "#fdca26"
            ],
            [
             1,
             "#f0f921"
            ]
           ]
          },
          "colorway": [
           "#636efa",
           "#EF553B",
           "#00cc96",
           "#ab63fa",
           "#FFA15A",
           "#19d3f3",
           "#FF6692",
           "#B6E880",
           "#FF97FF",
           "#FECB52"
          ],
          "font": {
           "color": "#2a3f5f"
          },
          "geo": {
           "bgcolor": "white",
           "lakecolor": "white",
           "landcolor": "#E5ECF6",
           "showlakes": true,
           "showland": true,
           "subunitcolor": "white"
          },
          "hoverlabel": {
           "align": "left"
          },
          "hovermode": "closest",
          "mapbox": {
           "style": "light"
          },
          "paper_bgcolor": "white",
          "plot_bgcolor": "#E5ECF6",
          "polar": {
           "angularaxis": {
            "gridcolor": "white",
            "linecolor": "white",
            "ticks": ""
           },
           "bgcolor": "#E5ECF6",
           "radialaxis": {
            "gridcolor": "white",
            "linecolor": "white",
            "ticks": ""
           }
          },
          "scene": {
           "xaxis": {
            "backgroundcolor": "#E5ECF6",
            "gridcolor": "white",
            "gridwidth": 2,
            "linecolor": "white",
            "showbackground": true,
            "ticks": "",
            "zerolinecolor": "white"
           },
           "yaxis": {
            "backgroundcolor": "#E5ECF6",
            "gridcolor": "white",
            "gridwidth": 2,
            "linecolor": "white",
            "showbackground": true,
            "ticks": "",
            "zerolinecolor": "white"
           },
           "zaxis": {
            "backgroundcolor": "#E5ECF6",
            "gridcolor": "white",
            "gridwidth": 2,
            "linecolor": "white",
            "showbackground": true,
            "ticks": "",
            "zerolinecolor": "white"
           }
          },
          "shapedefaults": {
           "line": {
            "color": "#2a3f5f"
           }
          },
          "ternary": {
           "aaxis": {
            "gridcolor": "white",
            "linecolor": "white",
            "ticks": ""
           },
           "baxis": {
            "gridcolor": "white",
            "linecolor": "white",
            "ticks": ""
           },
           "bgcolor": "#E5ECF6",
           "caxis": {
            "gridcolor": "white",
            "linecolor": "white",
            "ticks": ""
           }
          },
          "title": {
           "x": 0.05
          },
          "xaxis": {
           "automargin": true,
           "gridcolor": "white",
           "linecolor": "white",
           "ticks": "",
           "title": {
            "standoff": 15
           },
           "zerolinecolor": "white",
           "zerolinewidth": 2
          },
          "yaxis": {
           "automargin": true,
           "gridcolor": "white",
           "linecolor": "white",
           "ticks": "",
           "title": {
            "standoff": 15
           },
           "zerolinecolor": "white",
           "zerolinewidth": 2
          }
         }
        },
        "title": {
         "text": "Gender Bias In Profession",
         "x": 0.5
        },
        "width": 1000,
        "xaxis": {
         "title": {
          "text": "Word Extremes"
         }
        },
        "yaxis": {
         "title": {
          "text": "Similarity"
         }
        }
       }
      },
      "text/html": [
       "<div>                            <div id=\"549e9c1d-5a71-4a80-8a0a-1aa9bcc0614d\" class=\"plotly-graph-div\" style=\"height:1000px; width:1000px;\"></div>            <script type=\"text/javascript\">                require([\"plotly\"], function(Plotly) {                    window.PLOTLYENV=window.PLOTLYENV || {};                                    if (document.getElementById(\"549e9c1d-5a71-4a80-8a0a-1aa9bcc0614d\")) {                    Plotly.newPlot(                        \"549e9c1d-5a71-4a80-8a0a-1aa9bcc0614d\",                        [{\"mode\":\"markers+text\",\"name\":\"Markers and Text\",\"text\":[\"maestro\",\"statesman\",\"skipper\",\"protege\",\"businessman\",\"sportsman\",\"philosopher\",\"marksman\",\"captain\",\"architect\",\"financier\",\"warrior\",\"major_leaguer\",\"trumpeter\",\"broadcaster\",\"magician\",\"fighter_pilot\",\"boss\",\"industrialist\",\"pundit\",\"interior_designer\",\"housekeeper\",\"stylist\",\"bookkeeper\",\"maid\",\"nun\",\"nanny\",\"hairdresser\",\"paralegal\",\"ballerina\",\"socialite\",\"librarian\",\"receptionist\",\"waitress\",\"nurse\",\"registered_nurse\",\"homemaker\",\"housewife\",\"actress\",\"businesswoman\"],\"textposition\":\"bottom center\",\"x\":[-1.0,-0.9487179487179487,-0.8974358974358975,-0.8461538461538461,-0.7948717948717949,-0.7435897435897436,-0.6923076923076923,-0.641025641025641,-0.5897435897435898,-0.5384615384615385,-0.4871794871794872,-0.4358974358974359,-0.3846153846153846,-0.33333333333333337,-0.28205128205128205,-0.23076923076923084,-0.17948717948717952,-0.1282051282051282,-0.07692307692307698,-0.02564102564102566,0.02564102564102555,0.07692307692307687,0.1282051282051282,0.17948717948717952,0.23076923076923084,0.28205128205128194,0.33333333333333326,0.3846153846153846,0.4358974358974359,0.4871794871794872,0.5384615384615383,0.5897435897435896,0.641025641025641,0.6923076923076923,0.7435897435897436,0.7948717948717947,0.846153846153846,0.8974358974358974,0.9487179487179487,1.0],\"y\":[-0.23798441886901855,-0.21665450930595398,-0.20758670568466187,-0.20267201960086823,-0.20206759870052338,-0.19492392241954803,-0.18836352229118347,-0.18073658645153046,-0.17289860546588898,-0.16785557568073273,-0.16702036559581757,-0.16313637793064117,-0.15280862152576447,-0.15001443028450012,-0.1471886783838272,-0.14637240767478943,-0.14401693642139435,-0.13782283663749695,-0.13718199729919434,-0.13684885203838348,0.19714224338531494,0.20833440124988556,0.215603768825531,0.22363169491291046,0.2377612590789795,0.24125954508781433,0.24782580137252808,0.24929331243038177,0.2494615912437439,0.25276464223861694,0.25718823075294495,0.2664712369441986,0.27317625284194946,0.27540290355682373,0.28085967898368835,0.30426231026649475,0.3043797016143799,0.3403658866882324,0.3523513972759247,0.359654039144516],\"type\":\"scatter\"}],                        {\"height\":1000,\"title\":{\"text\":\"Gender Bias In Profession\",\"x\":0.5},\"width\":1000,\"xaxis\":{\"title\":{\"text\":\"Word Extremes\"}},\"yaxis\":{\"title\":{\"text\":\"Similarity\"}},\"template\":{\"data\":{\"histogram2dcontour\":[{\"type\":\"histogram2dcontour\",\"colorbar\":{\"outlinewidth\":0,\"ticks\":\"\"},\"colorscale\":[[0.0,\"#0d0887\"],[0.1111111111111111,\"#46039f\"],[0.2222222222222222,\"#7201a8\"],[0.3333333333333333,\"#9c179e\"],[0.4444444444444444,\"#bd3786\"],[0.5555555555555556,\"#d8576b\"],[0.6666666666666666,\"#ed7953\"],[0.7777777777777778,\"#fb9f3a\"],[0.8888888888888888,\"#fdca26\"],[1.0,\"#f0f921\"]]}],\"choropleth\":[{\"type\":\"choropleth\",\"colorbar\":{\"outlinewidth\":0,\"ticks\":\"\"}}],\"histogram2d\":[{\"type\":\"histogram2d\",\"colorbar\":{\"outlinewidth\":0,\"ticks\":\"\"},\"colorscale\":[[0.0,\"#0d0887\"],[0.1111111111111111,\"#46039f\"],[0.2222222222222222,\"#7201a8\"],[0.3333333333333333,\"#9c179e\"],[0.4444444444444444,\"#bd3786\"],[0.5555555555555556,\"#d8576b\"],[0.6666666666666666,\"#ed7953\"],[0.7777777777777778,\"#fb9f3a\"],[0.8888888888888888,\"#fdca26\"],[1.0,\"#f0f921\"]]}],\"heatmap\":[{\"type\":\"heatmap\",\"colorbar\":{\"outlinewidth\":0,\"ticks\":\"\"},\"colorscale\":[[0.0,\"#0d0887\"],[0.1111111111111111,\"#46039f\"],[0.2222222222222222,\"#7201a8\"],[0.3333333333333333,\"#9c179e\"],[0.4444444444444444,\"#bd3786\"],[0.5555555555555556,\"#d8576b\"],[0.6666666666666666,\"#ed7953\"],[0.7777777777777778,\"#fb9f3a\"],[0.8888888888888888,\"#fdca26\"],[1.0,\"#f0f921\"]]}],\"heatmapgl\":[{\"type\":\"heatmapgl\",\"colorbar\":{\"outlinewidth\":0,\"ticks\":\"\"},\"colorscale\":[[0.0,\"#0d0887\"],[0.1111111111111111,\"#46039f\"],[0.2222222222222222,\"#7201a8\"],[0.3333333333333333,\"#9c179e\"],[0.4444444444444444,\"#bd3786\"],[0.5555555555555556,\"#d8576b\"],[0.6666666666666666,\"#ed7953\"],[0.7777777777777778,\"#fb9f3a\"],[0.8888888888888888,\"#fdca26\"],[1.0,\"#f0f921\"]]}],\"contourcarpet\":[{\"type\":\"contourcarpet\",\"colorbar\":{\"outlinewidth\":0,\"ticks\":\"\"}}],\"contour\":[{\"type\":\"contour\",\"colorbar\":{\"outlinewidth\":0,\"ticks\":\"\"},\"colorscale\":[[0.0,\"#0d0887\"],[0.1111111111111111,\"#46039f\"],[0.2222222222222222,\"#7201a8\"],[0.3333333333333333,\"#9c179e\"],[0.4444444444444444,\"#bd3786\"],[0.5555555555555556,\"#d8576b\"],[0.6666666666666666,\"#ed7953\"],[0.7777777777777778,\"#fb9f3a\"],[0.8888888888888888,\"#fdca26\"],[1.0,\"#f0f921\"]]}],\"surface\":[{\"type\":\"surface\",\"colorbar\":{\"outlinewidth\":0,\"ticks\":\"\"},\"colorscale\":[[0.0,\"#0d0887\"],[0.1111111111111111,\"#46039f\"],[0.2222222222222222,\"#7201a8\"],[0.3333333333333333,\"#9c179e\"],[0.4444444444444444,\"#bd3786\"],[0.5555555555555556,\"#d8576b\"],[0.6666666666666666,\"#ed7953\"],[0.7777777777777778,\"#fb9f3a\"],[0.8888888888888888,\"#fdca26\"],[1.0,\"#f0f921\"]]}],\"mesh3d\":[{\"type\":\"mesh3d\",\"colorbar\":{\"outlinewidth\":0,\"ticks\":\"\"}}],\"scatter\":[{\"fillpattern\":{\"fillmode\":\"overlay\",\"size\":10,\"solidity\":0.2},\"type\":\"scatter\"}],\"parcoords\":[{\"type\":\"parcoords\",\"line\":{\"colorbar\":{\"outlinewidth\":0,\"ticks\":\"\"}}}],\"scatterpolargl\":[{\"type\":\"scatterpolargl\",\"marker\":{\"colorbar\":{\"outlinewidth\":0,\"ticks\":\"\"}}}],\"bar\":[{\"error_x\":{\"color\":\"#2a3f5f\"},\"error_y\":{\"color\":\"#2a3f5f\"},\"marker\":{\"line\":{\"color\":\"#E5ECF6\",\"width\":0.5},\"pattern\":{\"fillmode\":\"overlay\",\"size\":10,\"solidity\":0.2}},\"type\":\"bar\"}],\"scattergeo\":[{\"type\":\"scattergeo\",\"marker\":{\"colorbar\":{\"outlinewidth\":0,\"ticks\":\"\"}}}],\"scatterpolar\":[{\"type\":\"scatterpolar\",\"marker\":{\"colorbar\":{\"outlinewidth\":0,\"ticks\":\"\"}}}],\"histogram\":[{\"marker\":{\"pattern\":{\"fillmode\":\"overlay\",\"size\":10,\"solidity\":0.2}},\"type\":\"histogram\"}],\"scattergl\":[{\"type\":\"scattergl\",\"marker\":{\"colorbar\":{\"outlinewidth\":0,\"ticks\":\"\"}}}],\"scatter3d\":[{\"type\":\"scatter3d\",\"line\":{\"colorbar\":{\"outlinewidth\":0,\"ticks\":\"\"}},\"marker\":{\"colorbar\":{\"outlinewidth\":0,\"ticks\":\"\"}}}],\"scattermapbox\":[{\"type\":\"scattermapbox\",\"marker\":{\"colorbar\":{\"outlinewidth\":0,\"ticks\":\"\"}}}],\"scatterternary\":[{\"type\":\"scatterternary\",\"marker\":{\"colorbar\":{\"outlinewidth\":0,\"ticks\":\"\"}}}],\"scattercarpet\":[{\"type\":\"scattercarpet\",\"marker\":{\"colorbar\":{\"outlinewidth\":0,\"ticks\":\"\"}}}],\"carpet\":[{\"aaxis\":{\"endlinecolor\":\"#2a3f5f\",\"gridcolor\":\"white\",\"linecolor\":\"white\",\"minorgridcolor\":\"white\",\"startlinecolor\":\"#2a3f5f\"},\"baxis\":{\"endlinecolor\":\"#2a3f5f\",\"gridcolor\":\"white\",\"linecolor\":\"white\",\"minorgridcolor\":\"white\",\"startlinecolor\":\"#2a3f5f\"},\"type\":\"carpet\"}],\"table\":[{\"cells\":{\"fill\":{\"color\":\"#EBF0F8\"},\"line\":{\"color\":\"white\"}},\"header\":{\"fill\":{\"color\":\"#C8D4E3\"},\"line\":{\"color\":\"white\"}},\"type\":\"table\"}],\"barpolar\":[{\"marker\":{\"line\":{\"color\":\"#E5ECF6\",\"width\":0.5},\"pattern\":{\"fillmode\":\"overlay\",\"size\":10,\"solidity\":0.2}},\"type\":\"barpolar\"}],\"pie\":[{\"automargin\":true,\"type\":\"pie\"}]},\"layout\":{\"autotypenumbers\":\"strict\",\"colorway\":[\"#636efa\",\"#EF553B\",\"#00cc96\",\"#ab63fa\",\"#FFA15A\",\"#19d3f3\",\"#FF6692\",\"#B6E880\",\"#FF97FF\",\"#FECB52\"],\"font\":{\"color\":\"#2a3f5f\"},\"hovermode\":\"closest\",\"hoverlabel\":{\"align\":\"left\"},\"paper_bgcolor\":\"white\",\"plot_bgcolor\":\"#E5ECF6\",\"polar\":{\"bgcolor\":\"#E5ECF6\",\"angularaxis\":{\"gridcolor\":\"white\",\"linecolor\":\"white\",\"ticks\":\"\"},\"radialaxis\":{\"gridcolor\":\"white\",\"linecolor\":\"white\",\"ticks\":\"\"}},\"ternary\":{\"bgcolor\":\"#E5ECF6\",\"aaxis\":{\"gridcolor\":\"white\",\"linecolor\":\"white\",\"ticks\":\"\"},\"baxis\":{\"gridcolor\":\"white\",\"linecolor\":\"white\",\"ticks\":\"\"},\"caxis\":{\"gridcolor\":\"white\",\"linecolor\":\"white\",\"ticks\":\"\"}},\"coloraxis\":{\"colorbar\":{\"outlinewidth\":0,\"ticks\":\"\"}},\"colorscale\":{\"sequential\":[[0.0,\"#0d0887\"],[0.1111111111111111,\"#46039f\"],[0.2222222222222222,\"#7201a8\"],[0.3333333333333333,\"#9c179e\"],[0.4444444444444444,\"#bd3786\"],[0.5555555555555556,\"#d8576b\"],[0.6666666666666666,\"#ed7953\"],[0.7777777777777778,\"#fb9f3a\"],[0.8888888888888888,\"#fdca26\"],[1.0,\"#f0f921\"]],\"sequentialminus\":[[0.0,\"#0d0887\"],[0.1111111111111111,\"#46039f\"],[0.2222222222222222,\"#7201a8\"],[0.3333333333333333,\"#9c179e\"],[0.4444444444444444,\"#bd3786\"],[0.5555555555555556,\"#d8576b\"],[0.6666666666666666,\"#ed7953\"],[0.7777777777777778,\"#fb9f3a\"],[0.8888888888888888,\"#fdca26\"],[1.0,\"#f0f921\"]],\"diverging\":[[0,\"#8e0152\"],[0.1,\"#c51b7d\"],[0.2,\"#de77ae\"],[0.3,\"#f1b6da\"],[0.4,\"#fde0ef\"],[0.5,\"#f7f7f7\"],[0.6,\"#e6f5d0\"],[0.7,\"#b8e186\"],[0.8,\"#7fbc41\"],[0.9,\"#4d9221\"],[1,\"#276419\"]]},\"xaxis\":{\"gridcolor\":\"white\",\"linecolor\":\"white\",\"ticks\":\"\",\"title\":{\"standoff\":15},\"zerolinecolor\":\"white\",\"automargin\":true,\"zerolinewidth\":2},\"yaxis\":{\"gridcolor\":\"white\",\"linecolor\":\"white\",\"ticks\":\"\",\"title\":{\"standoff\":15},\"zerolinecolor\":\"white\",\"automargin\":true,\"zerolinewidth\":2},\"scene\":{\"xaxis\":{\"backgroundcolor\":\"#E5ECF6\",\"gridcolor\":\"white\",\"linecolor\":\"white\",\"showbackground\":true,\"ticks\":\"\",\"zerolinecolor\":\"white\",\"gridwidth\":2},\"yaxis\":{\"backgroundcolor\":\"#E5ECF6\",\"gridcolor\":\"white\",\"linecolor\":\"white\",\"showbackground\":true,\"ticks\":\"\",\"zerolinecolor\":\"white\",\"gridwidth\":2},\"zaxis\":{\"backgroundcolor\":\"#E5ECF6\",\"gridcolor\":\"white\",\"linecolor\":\"white\",\"showbackground\":true,\"ticks\":\"\",\"zerolinecolor\":\"white\",\"gridwidth\":2}},\"shapedefaults\":{\"line\":{\"color\":\"#2a3f5f\"}},\"annotationdefaults\":{\"arrowcolor\":\"#2a3f5f\",\"arrowhead\":0,\"arrowwidth\":1},\"geo\":{\"bgcolor\":\"white\",\"landcolor\":\"#E5ECF6\",\"subunitcolor\":\"white\",\"showland\":true,\"showlakes\":true,\"lakecolor\":\"white\"},\"title\":{\"x\":0.05},\"mapbox\":{\"style\":\"light\"}}}},                        {\"responsive\": true}                    ).then(function(){\n",
       "                            \n",
       "var gd = document.getElementById('549e9c1d-5a71-4a80-8a0a-1aa9bcc0614d');\n",
       "var x = new MutationObserver(function (mutations, observer) {{\n",
       "        var display = window.getComputedStyle(gd).display;\n",
       "        if (!display || display === 'none') {{\n",
       "            console.log([gd, 'removed!']);\n",
       "            Plotly.purge(gd);\n",
       "            observer.disconnect();\n",
       "        }}\n",
       "}});\n",
       "\n",
       "// Listen for the removal of the full notebook cells\n",
       "var notebookContainer = gd.closest('#notebook-container');\n",
       "if (notebookContainer) {{\n",
       "    x.observe(notebookContainer, {childList: true});\n",
       "}}\n",
       "\n",
       "// Listen for the clearing of the current output cell\n",
       "var outputEl = gd.closest('.output');\n",
       "if (outputEl) {{\n",
       "    x.observe(outputEl, {childList: true});\n",
       "}}\n",
       "\n",
       "                        })                };                });            </script>        </div>"
      ]
     },
     "metadata": {},
     "output_type": "display_data"
    }
   ],
   "source": [
    "plot_words_extreme(sp[:20], sp[-20:], 40, x_title='Word Extremes', y_title='Similarity', \n",
    "title='Gender Bias In Profession')"
   ]
  },
  {
   "cell_type": "markdown",
   "metadata": {
    "collapsed": true
   },
   "source": [
    "## DEBIASING"
   ]
  },
  {
   "cell_type": "code",
   "execution_count": 26,
   "metadata": {},
   "outputs": [],
   "source": [
    "from debiaswe.debias import debias,soft_debias"
   ]
  },
  {
   "cell_type": "code",
   "execution_count": 27,
   "metadata": {},
   "outputs": [
    {
     "name": "stdout",
     "output_type": "stream",
     "text": [
      "definitional [['woman', 'man'], ['girl', 'boy'], ['she', 'he'], ['mother', 'father'], ['daughter', 'son'], ['gal', 'guy'], ['female', 'male'], ['her', 'his'], ['herself', 'himself']]\n",
      "gender specific 218 ['actress', 'actresses', 'aunt', 'aunts', 'bachelor', 'ballerina', 'barbershop', 'baritone', 'beard', 'beards']\n"
     ]
    }
   ],
   "source": [
    "# Lets load some gender related word lists to help us with debiasing\n",
    "with open('./data/definitional_pairs.json', \"r\") as f:\n",
    "    defs = json.load(f)\n",
    "print(\"definitional\", defs)\n",
    "\n",
    "with open('./data/equalize_pairs.json', \"r\") as f:\n",
    "    equalize_pairs = json.load(f)\n",
    "\n",
    "with open('./data/gender_specific_seed.json', \"r\") as f:\n",
    "    gender_specific_words = json.load(f)\n",
    "print(\"gender specific\", len(gender_specific_words), gender_specific_words[:10])"
   ]
  },
  {
   "cell_type": "code",
   "execution_count": 28,
   "metadata": {},
   "outputs": [
    {
     "name": "stdout",
     "output_type": "stream",
     "text": [
      "26423 words of dimension 300 : in, for, that, is, ..., Jay, Leroy, Brad, Jermaine\n",
      "{('Male', 'Female'), ('Schoolboy', 'Schoolgirl'), ('Spokesman', 'Spokeswoman'), ('HE', 'SHE'), ('Grandpa', 'Grandma'), ('Fatherhood', 'Motherhood'), ('dad', 'mom'), ('councilman', 'councilwoman'), ('congressman', 'congresswoman'), ('brothers', 'sisters'), ('SON', 'DAUGHTER'), ('EX_GIRLFRIEND', 'EX_BOYFRIEND'), ('FELLA', 'GRANNY'), ('COLT', 'FILLY'), ('GRANDFATHER', 'GRANDMOTHER'), ('Males', 'Females'), ('Men', 'Women'), ('males', 'females'), ('fraternity', 'sorority'), ('Fella', 'Granny'), ('spokesman', 'spokeswoman'), ('grandsons', 'granddaughters'), ('SONS', 'DAUGHTERS'), ('Councilman', 'Councilwoman'), ('MEN', 'WOMEN'), ('Monastery', 'Convent'), ('Prostate_Cancer', 'Ovarian_Cancer'), ('fathers', 'mothers'), ('GRANDSON', 'GRANDDAUGHTER'), ('FATHERS', 'MOTHERS'), ('grandfather', 'grandmother'), ('MAN', 'WOMAN'), ('Boys', 'Girls'), ('BROTHERS', 'SISTERS'), ('man', 'woman'), ('FATHERHOOD', 'MOTHERHOOD'), ('CHAIRMAN', 'CHAIRWOMAN'), ('businessman', 'businesswoman'), ('grandson', 'granddaughter'), ('HIS', 'HER'), ('KINGS', 'QUEENS'), ('DUDES', 'GALS'), ('Wives', 'Husbands'), ('gentleman', 'lady'), ('himself', 'herself'), ('male', 'female'), ('chairman', 'chairwoman'), ('Dudes', 'Gals'), ('dudes', 'gals'), ('WIVES', 'HUSBANDS'), ('Grandson', 'Granddaughter'), ('TWIN_BROTHER', 'TWIN_SISTER'), ('UNCLE', 'AUNT'), ('Gentleman', 'Lady'), ('GELDING', 'MARE'), ('BUSINESSMAN', 'BUSINESSWOMAN'), ('TESTOSTERONE', 'ESTROGEN'), ('prostate_cancer', 'ovarian_cancer'), ('CONGRESSMAN', 'CONGRESSWOMAN'), ('Grandfather', 'Grandmother'), ('FATHER', 'MOTHER'), ('colt', 'filly'), ('NEPHEW', 'NIECE'), ('catholic_priest', 'nun'), ('father', 'mother'), ('HIMSELF', 'HERSELF'), ('nephew', 'niece'), ('His', 'Her'), ('PRINCE', 'PRINCESS'), ('Congressman', 'Congresswoman'), ('GRANDSONS', 'GRANDDAUGHTERS'), ('Grandsons', 'Granddaughters'), ('gelding', 'mare'), ('monastery', 'convent'), ('dads', 'moms'), ('testosterone', 'estrogen'), ('Catholic_Priest', 'Nun'), ('boy', 'girl'), ('ex_girlfriend', 'ex_boyfriend'), ('KING', 'QUEEN'), ('Chairman', 'Chairwoman'), ('son', 'daughter'), ('Fraternity', 'Sorority'), ('boys', 'girls'), ('MALE', 'FEMALE'), ('GRANDPA', 'GRANDMA'), ('Twin_Brother', 'Twin_Sister'), ('Kings', 'Queens'), ('Son', 'Daughter'), ('Prince', 'Princess'), ('Man', 'Woman'), ('BOY', 'GIRL'), ('SPOKESMAN', 'SPOKESWOMAN'), ('uncle', 'aunt'), ('Father', 'Mother'), ('schoolboy', 'schoolgirl'), ('Dad', 'Mom'), ('BOYS', 'GIRLS'), ('fatherhood', 'motherhood'), ('GENTLEMAN', 'LADY'), ('king', 'queen'), ('wives', 'husbands'), ('grandpa', 'grandma'), ('PROSTATE_CANCER', 'OVARIAN_CANCER'), ('DADS', 'MOMS'), ('BROTHER', 'SISTER'), ('Gentlemen', 'Ladies'), ('brother', 'sister'), ('MONASTERY', 'CONVENT'), ('Dads', 'Moms'), ('FRATERNITY', 'SORORITY'), ('Testosterone', 'Estrogen'), ('Fathers', 'Mothers'), ('prince', 'princess'), ('Himself', 'Herself'), ('Boy', 'Girl'), ('twin_brother', 'twin_sister'), ('he', 'she'), ('Businessman', 'Businesswoman'), ('King', 'Queen'), ('Ex_Girlfriend', 'Ex_Boyfriend'), ('men', 'women'), ('Gelding', 'Mare'), ('MALES', 'FEMALES'), ('Uncle', 'Aunt'), ('Brothers', 'Sisters'), ('COUNCILMAN', 'COUNCILWOMAN'), ('CATHOLIC_PRIEST', 'NUN'), ('gentlemen', 'ladies'), ('Brother', 'Sister'), ('kings', 'queens'), ('SCHOOLBOY', 'SCHOOLGIRL'), ('He', 'She'), ('Sons', 'Daughters'), ('fella', 'granny'), ('GENTLEMEN', 'LADIES'), ('sons', 'daughters'), ('Nephew', 'Niece'), ('DAD', 'MOM'), ('Colt', 'Filly'), ('his', 'her')}\n",
      "26423 words of dimension 300 : in, for, that, is, ..., Jay, Leroy, Brad, Jermaine\n"
     ]
    }
   ],
   "source": [
    "debias(E, gender_specific_words, defs, equalize_pairs)"
   ]
  },
  {
   "cell_type": "code",
   "execution_count": 29,
   "metadata": {},
   "outputs": [
    {
     "data": {
      "text/plain": [
       "([(-0.4154882, 'congressman'),\n",
       "  (-0.4115872, 'businessman'),\n",
       "  (-0.3297558, 'councilman'),\n",
       "  (-0.2997815, 'dad'),\n",
       "  (-0.21665451, 'statesman'),\n",
       "  (-0.11345412, 'salesman'),\n",
       "  (-0.073004864, 'monk'),\n",
       "  (-0.07216395, 'handyman'),\n",
       "  (-0.041478347, 'commander'),\n",
       "  (-0.040511727, 'minister'),\n",
       "  (-0.037369374, 'skipper'),\n",
       "  (-0.036916208, 'commissioner'),\n",
       "  (-0.033430077, 'observer'),\n",
       "  (-0.032828875, 'manager'),\n",
       "  (-0.032105125, 'firebrand'),\n",
       "  (-0.031202454, 'surgeon'),\n",
       "  (-0.03115207, 'citizen'),\n",
       "  (-0.031070886, 'archbishop'),\n",
       "  (-0.029434487, 'bishop'),\n",
       "  (-0.029371599, 'captain')],\n",
       " [(0.033466958, 'drummer'),\n",
       "  (0.03364377, 'student'),\n",
       "  (0.03403572, 'illustrator'),\n",
       "  (0.034525257, 'patrolman'),\n",
       "  (0.034747515, 'hairdresser'),\n",
       "  (0.037651714, 'foreman'),\n",
       "  (0.03772233, 'carpenter'),\n",
       "  (0.03777121, 'pastor'),\n",
       "  (0.038419854, 'nanny'),\n",
       "  (0.038888875, 'teenager'),\n",
       "  (0.040513154, 'janitor'),\n",
       "  (0.043088168, 'firefighter'),\n",
       "  (0.047822032, 'wrestler'),\n",
       "  (0.23776129, 'maid'),\n",
       "  (0.24125956, 'nun'),\n",
       "  (0.25276467, 'ballerina'),\n",
       "  (0.2754029, 'waitress'),\n",
       "  (0.34036583, 'housewife'),\n",
       "  (0.3523514, 'actress'),\n",
       "  (0.4058326, 'businesswoman')])"
      ]
     },
     "execution_count": 29,
     "metadata": {},
     "output_type": "execute_result"
    }
   ],
   "source": [
    "# profession analysis gender\n",
    "sp_debiased = sorted([(E.v(w).dot(v_gender), w) for w in profession_words])\n",
    "\n",
    "sp_debiased[0:20], sp_debiased[-20:]"
   ]
  },
  {
   "cell_type": "code",
   "execution_count": 30,
   "metadata": {},
   "outputs": [
    {
     "name": "stdout",
     "output_type": "stream",
     "text": [
      "Computing neighbors\n",
      "Mean: 10.216326685084963\n",
      "Median: 7.0\n",
      "grandma-grandpa\n",
      "aunt-uncle\n",
      "niece-nephew\n",
      "moms-dads\n",
      "schoolgirl-schoolboy\n",
      "granddaughters-grandsons\n",
      "convent-monastery\n",
      "female-male\n",
      "granddaughter-grandson\n",
      "twin_sister-twin_brother\n",
      "queens-kings\n",
      "woman-man\n",
      "motherhood-fatherhood\n",
      "ladies-gentlemen\n",
      "mare-gelding\n",
      "filly-colt\n",
      "ovarian_cancer-prostate_cancer\n",
      "women-men\n",
      "queen-king\n",
      "herself-himself\n",
      "congresswoman-congressman\n",
      "councilwoman-councilman\n",
      "daughter-son\n",
      "sorority-fraternity\n",
      "mom-dad\n",
      "husbands-wives\n",
      "sisters-brothers\n",
      "gals-dudes\n",
      "ex_boyfriend-ex_girlfriend\n",
      "daughters-sons\n",
      "chairwoman-chairman\n",
      "sister-brother\n",
      "girls-boys\n",
      "females-males\n",
      "estrogen-testosterone\n",
      "mother-father\n",
      "her-his\n",
      "grandmother-grandfather\n",
      "businesswoman-businessman\n",
      "mothers-fathers\n",
      "princess-prince\n",
      "she-he\n",
      "spokeswoman-spokesman\n",
      "girl-boy\n",
      "actress-actor\n",
      "lesbian-gay\n",
      "compatriot-countryman\n",
      "husband-younger_brother\n",
      "gal-dude\n",
      "hers-theirs\n",
      "heroine-hero\n",
      "feminism-feminist\n",
      "actresses-actors\n",
      "childhood-boyhood\n",
      "kid-guy\n",
      "me-him\n",
      "waitress-waiter\n",
      "mommy-daddy\n",
      "aunts-uncles\n",
      "housewife-homemaker\n",
      "chap-gentleman\n",
      "mustache-beard\n",
      "nun-monk\n",
      "diva-superstar\n",
      "teenage_girls-teenagers\n",
      "fillies-colts\n",
      "goddess-deity\n",
      "brides-bridal\n",
      "nieces-nephews\n",
      "viagra-cialis\n",
      "vagina-penis\n",
      "ballerina-dancer\n",
      "compatriots-countrymen\n",
      "maternity-midwives\n",
      "mama-fella\n",
      "stepdaughter-stepson\n",
      "matriarch-patriarch\n",
      "hostess-bartender\n",
      "maid-housekeeper\n",
      "eldest-elder_brother\n",
      "boyfriend-girlfriend\n",
      "heiress-socialite\n",
      "uterus-esophagus\n",
      "stepmother-eldest_son\n",
      "witch-witchcraft\n",
      "teenage_girl-teenager\n",
      "menopause-hormone_therapy\n",
      "youngster-lad\n",
      "grandmothers-grandparents\n",
      "bride-wedding\n",
      "dictator-strongman\n",
      "nuns-priests\n",
      "lesbians-gays\n",
      "estranged_husband-stepfather\n",
      "maids-laborers\n",
      "maternal-infant_mortality\n",
      "fiance-fiancee\n",
      "politician-statesman\n",
      "boyfriends-girlfriends\n",
      "hubby-babe\n",
      "lady-waitress\n",
      "blokes-bloke\n",
      "girlfriends-pals\n",
      "businesspeople-businessmen\n",
      "womb-fetus\n",
      "beau-wed\n",
      "facial_hair-beards\n",
      "camaraderie-brotherhood\n",
      "mistress-prostitute\n",
      "bastard-chap\n",
      "tumors-prostate\n",
      "trombone-baritone\n",
      "stallion-stud\n",
      "spokespeople-spokesmen\n",
      "witches-fairy\n",
      "salesperson-salesman\n",
      "manly-macho\n",
      "counterparts-brethren\n",
      "carpenter-handyman\n",
      "widow-cousin\n",
      "ma-le\n",
      "hens-chickens\n",
      "obstetrics-surgical\n",
      "replied-sir\n",
      "cubs-lions\n",
      "hen-cock\n",
      "guys-lads\n",
      "wife-married\n",
      "Jill-Brendan\n",
      "Carrie-Brad\n",
      "bulls-bull\n",
      "widows-families\n",
      "Laurie-Greg\n",
      "kinda-fellas\n",
      "Mary-John\n",
      "hair_salon-barbershop\n",
      "sentenced-extradited\n",
      "suitor-hostile_takeover\n",
      "luckily-but\n",
      "girlfriend-lover\n",
      "consummation-consummated\n",
      "semen-urine\n",
      "Emily-Brett\n",
      "prepping-ready\n",
      "salespeople-salesmen\n",
      "likens-foresees\n",
      "yell-boo\n",
      "large-sizeable\n",
      "Sarah-Geoffrey\n",
      "administrations-governments\n",
      "economists_surveyed-repo_rate\n",
      "basic_necessities-potable_water\n",
      "reunite-rejoin\n",
      "surpluses-surplus\n",
      "galaxies-comet\n",
      "carded-par\n",
      "stuff-anyway\n",
      "suggests-indicated\n",
      "echoed-reiterated\n",
      "pastor-bishop\n",
      "reuniting-rejoining\n",
      "prevailed-prevailing\n",
      "hallway-room\n",
      "kids-people\n",
      "dedication-commitment\n",
      "clauses-clause\n",
      "Tamika-Kareem\n",
      "peered-stood\n",
      "clutched-grinned\n",
      "simplifies-accelerates\n",
      "urges-wants\n",
      "skillfully-smartly\n",
      "hallways-corridors\n",
      "sparked-sparking\n",
      "considerate-accommodating\n",
      "rewarding-worthwhile\n",
      "really-it\n",
      "freaking-hey\n",
      "culminates-commences\n",
      "commented-stated\n",
      "militaries-commanders\n",
      "disgusting-obscene\n",
      "suspended-suspension\n",
      "reassurances-assurances\n",
      "spots-spot\n",
      "steroid-growth_hormone\n",
      "creepy-sexy\n",
      "pediatricians-doctors\n",
      "implies-implying\n",
      "recycled_materials-recycled\n",
      "coral_reefs-coastline\n",
      "empires-civilization\n",
      "wooden-wood\n",
      "saddened-disappointed\n",
      "huh-yes\n",
      "fucking-damned\n",
      "calendars-calendar\n",
      "blood_vessels-cartilage\n",
      "screaming-booing\n",
      "lends-lend\n",
      "skilful-tactically\n",
      "stabbed-raped\n",
      "admittedly-nevertheless\n",
      "armies-battalions\n",
      "caucuses-delegates\n",
      "larvae-mussels\n",
      "bipartisan-lawmakers\n",
      "divorced-marry\n",
      "explores-explore\n",
      "refill-recharge\n",
      "retired-retire\n",
      "everything-whatever\n",
      "proper-necessary\n",
      "restaurateurs-hoteliers\n",
      "mums-blokes\n",
      "grand_jury_indicted-grand_jury\n",
      "darted-dived\n",
      "retrial-extradition\n",
      "buns-bacon\n",
      "laughed-sarcastically\n",
      "colts-gallop\n",
      "what-that\n",
      "erupted-flared\n",
      "exaggerate-overstated\n",
      "capabilities-capability\n",
      "fosters-sustains\n",
      "workshop-meeting\n",
      "suffered-sustained\n",
      "sergeant-commander\n",
      "freaked-mad\n",
      "pediatric-orthopedic\n",
      "spiraling-surging\n",
      "drill_holes-drilling\n",
      "paycheck-salary\n",
      "waited-wait\n",
      "Allison-Todd\n",
      "sloppy-woeful\n",
      "instant_messaging-instant_messages\n",
      "interfaces-connectivity\n",
      "explains-elaborated\n",
      "emphasizes-acknowledges\n",
      "spurred-spur\n",
      "researching-exploring\n",
      "pediatrician-surgeon\n",
      "stabbing-raping\n",
      "meatballs-steak\n",
      "liberal-conservative\n",
      "excessive-excess\n",
      "biceps-tendon\n",
      "featured-previewed\n",
      "bailouts-bailout\n",
      "put-come\n",
      "scorers-scorer\n",
      "inexpensive-cheap\n",
      "atherosclerosis-inflammation\n",
      "distorted-misinterpreted\n",
      "bruise-fracture\n",
      "motivations-intentions\n",
      "gunfire-artillery\n",
      "cosmetics-cosmetic\n",
      "reorganization-restructure\n",
      "greeting-warmly\n",
      "incredibly-quite\n",
      "resignations-resign\n",
      "cellist-soprano\n",
      "vying-eyeing\n",
      "nerve_cells-spinal_cord\n",
      "too-though\n",
      "schedules-timetables\n",
      "because-if\n",
      "riffs-melodies\n",
      "details-specifics\n",
      "masterful-scintillating\n",
      "pediatrics-neurology\n",
      "oral-orally\n",
      "implored-promised\n",
      "contracts-contract\n",
      "veggies-salad\n",
      "sweatshirt-jersey\n",
      "garnered-garner\n",
      "intuition-gut_feeling\n",
      "protests-rebellion\n",
      "offensive_lineman-outfielder\n",
      "thug-pimp\n",
      "commotion-disturbance\n",
      "size_fits-silver_bullet\n",
      "perfecting-fine_tuning\n",
      "culminated-ended\n",
      "mortar_rounds-rockets\n",
      "scaring-harming\n",
      "hinged-hinge\n",
      "soy-biofuel\n",
      "dolphin-dolphins\n",
      "relationships-alliances\n",
      "romances-romantic\n",
      "reevaluate-reassess\n",
      "handing-sending\n",
      "infinitely-even\n",
      "letters-letter\n",
      "someplace-somewhere_else\n",
      "gosh-just\n",
      "trillion_yen-billion\n",
      "worldview-sensibilities\n",
      "dictatorships-imperialism\n",
      "angrily-emphatically\n",
      "servicemen-troops\n",
      "socioeconomic-socio\n",
      "individualized-tailored\n",
      "mystified-unconvinced\n",
      "jumpstart-rejuvenate\n",
      "dedicated-committed\n",
      "esque-la\n",
      "enormously-certainly\n",
      "entails-entail\n",
      "toxins-benzene\n",
      "car_bomb_exploded-detonated\n",
      "firefighter-firefighting\n",
      "confided-intimated\n",
      "evacuated-evacuate\n",
      "shirtless-topless\n",
      "bassist-quintet\n",
      "walks-runs\n",
      "unwarranted-warranted\n",
      "fatally_shot-abducted\n",
      "alderman-councilmen\n",
      "ribbons-flags\n",
      "unseeded-semis\n",
      "aversion-preference\n",
      "predicts-expects\n",
      "erodes-weakens\n",
      "eliminates-lowers\n",
      "examines-assesses\n",
      "thrashing-rout\n",
      "algorithms-computational\n",
      "asteroids-asteroid\n",
      "culminating-subsequent\n",
      "undermines-justifies\n",
      "deductions-tax\n",
      "coworkers-colleagues\n",
      "fruits-mango\n",
      "gratified-confident\n",
      "poured-pumped\n",
      "leadoff_double-batters\n",
      "aims-intends\n",
      "huddled-hunkered_down\n",
      "affirmation-reaffirming\n",
      "loan_modification-loan\n",
      "contends-believes\n",
      "notable-significant\n",
      "nontraditional-unconventional\n",
      "behind-ahead\n",
      "overcast-balmy\n",
      "rower-skipper\n",
      "creating-generating\n",
      "combines-blending\n",
      "sightseeing-stopover\n",
      "preparing-prepared\n",
      "multibillion_dollar-billions\n",
      "assailant-abductors\n",
      "bested-handily\n",
      "shortly_afterward-subsequently\n",
      "decried-termed\n",
      "linebackers-defensive\n",
      "drug_addicts-prostitutes\n",
      "appoints-elects\n",
      "ministries-ministers\n",
      "critters-turtles\n",
      "leveraged_buyout-buyout\n",
      "coatings-specialty_chemicals\n",
      "euro_zone-borrowing_costs\n",
      "preschoolers-schoolchildren\n",
      "sole_purpose-intention\n",
      "hipster-chic\n",
      "timeline-timeframe\n",
      "immigrant-migrants\n",
      "rabbit-goat\n",
      "enables-enable\n",
      "compassion-pragmatism\n",
      "stunned-surprised\n",
      "chronicles-chronicle\n",
      "architectures-interconnect\n",
      "vegan-vegetarian\n",
      "facebook-tweet\n",
      "retaliated-retaliate\n",
      "judgmental-politically_correct\n",
      "landed-landing\n",
      "hedge-hedged\n",
      "recessions-downturn\n",
      "raccoon-coyotes\n",
      "stroller-scooter\n",
      "church-bishops\n",
      "expressed_concern-acknowledged\n",
      "til-until\n",
      "germs-contaminants\n",
      "navigate-traverse\n",
      "crack_cocaine-cocaine\n",
      "optimal-optimum\n",
      "fulfillment-fulfilled\n",
      "organize-mobilize\n",
      "flaws-deficiencies\n",
      "sidewalk-intersection\n",
      "workloads-workload\n",
      "associate_dean-vice_chancellor\n",
      "uncanny-astounding\n",
      "patrolman-patrol\n",
      "bookkeeping-payroll\n",
      "ballots-electors\n",
      "measuring-measured\n",
      "outlasted-beat\n",
      "masonry-limestone\n",
      "offensive_linemen-draft_picks\n",
      "gym-workout\n",
      "worsened-stabilized\n",
      "behaviors-behavior\n",
      "typhoon-landfall\n",
      "traumatic-catastrophic\n",
      "fade-subside\n",
      "maxed-max\n",
      "wandered-strayed\n",
      "testimony-deposition\n",
      "disciples-followers\n",
      "classmates-teammates\n",
      "sunglasses-sandals\n",
      "your-you\n",
      "doctrines-orthodoxy\n",
      "grand_theft-wire_fraud\n",
      "fisherman-fishermen\n",
      "walk-go\n",
      "teddy_bear-doll\n",
      "imaginable-conceivable\n",
      "paranoid-reactionary\n",
      "muscles-ligaments\n",
      "wept-kissed\n",
      "confronts-realizes\n",
      "cathedral-archbishop\n",
      "callous-foolish\n",
      "keenly_aware-understands\n",
      "chef-cuisine\n",
      "eerie-enchanting\n",
      "twins-twin\n",
      "paid_tribute-saluted\n",
      "corn-ethanol\n",
      "relievers-bullpen\n",
      "donned-don\n",
      "respectful-forthright\n",
      "clinched-clinch\n",
      "co_authored-published\n",
      "vocabulary-vernacular\n",
      "emaciated-dehydrated\n",
      "handgun-rifles\n",
      "withdrew-withdraws\n",
      "specter-possibility\n",
      "apt-likely\n",
      "assistant-manager\n",
      "decades-months\n",
      "caps-cap\n",
      "classmate-colleague\n",
      "dusk-sunset\n",
      "photojournalist-reporter\n",
      "simplify-improve\n",
      "thing-do\n",
      "greasy-salty\n",
      "Latoya-Jermaine\n",
      "budget_shortfalls-shortfall\n",
      "grappled-dealt\n",
      "keeps-stays\n",
      "glanced-paused\n",
      "consisted-amounted\n",
      "stormwater-wastewater\n",
      "newlyweds-honeymoon\n",
      "relied-depend\n",
      "wore-dress\n",
      "infer-inferred\n",
      "feelings-desire\n",
      "horrible-dreadful\n",
      "says-adding\n",
      "perseverance-resilience\n",
      "minimizes-minimal\n",
      "tailback-signal_caller\n",
      "quizzed-queried\n",
      "crane-barge\n",
      "ensues-escalates\n",
      "impractical-feasible\n",
      "upstaged-outdone\n",
      "grief-pain\n",
      "eg-or\n",
      "featuring-showcasing\n",
      "helps-can\n",
      "worried-optimistic\n",
      "obtaining-acquiring\n",
      "classifications-classification\n",
      "alternatives-viable\n",
      "shopping_malls-hotels\n",
      "appealing-attractive\n",
      "horribly-badly\n",
      "screwing-screw\n",
      "chronicled-documented\n",
      "instructed-obliged\n",
      "income-taxes\n",
      "deadlines-deadline\n"
     ]
    }
   ],
   "source": [
    "# analogies gender\n",
    "a_gender_debiased = E.best_analogies_dist_thresh(v_gender)\n",
    "\n",
    "for (a,b,c) in a_gender_debiased:\n",
    "    print(a+\"-\"+b)"
   ]
  },
  {
   "cell_type": "code",
   "execution_count": 31,
   "metadata": {},
   "outputs": [
    {
     "name": "stdout",
     "output_type": "stream",
     "text": [
      "maid-housekeeper-0.2925283\n",
      "carpenter-handyman-0.13277006\n"
     ]
    }
   ],
   "source": [
    "she_occupation = ['carpenter', 'nurse', 'receptionist', 'librarian', 'socialite', 'hairdresser', \n",
    "'maid', 'bookkeeper', 'stylist', 'housekeeper', 'interior designer', 'sewing']\n",
    "for (a,b,c) in a_gender_debiased:\n",
    "    if a in she_occupation:\n",
    "        print(a+\"-\"+b+\"-\"+str(c))"
   ]
  },
  {
   "cell_type": "code",
   "execution_count": 32,
   "metadata": {},
   "outputs": [
    {
     "data": {
      "application/vnd.plotly.v1+json": {
       "config": {
        "plotlyServerURL": "https://plot.ly"
       },
       "data": [
        {
         "mode": "markers+text",
         "name": "Markers and Text",
         "text": [
          "congressman",
          "businessman",
          "councilman",
          "dad",
          "statesman",
          "salesman",
          "monk",
          "handyman",
          "commander",
          "minister",
          "skipper",
          "commissioner",
          "observer",
          "manager",
          "firebrand",
          "surgeon",
          "citizen",
          "archbishop",
          "bishop",
          "captain",
          "drummer",
          "student",
          "illustrator",
          "patrolman",
          "hairdresser",
          "foreman",
          "carpenter",
          "pastor",
          "nanny",
          "teenager",
          "janitor",
          "firefighter",
          "wrestler",
          "maid",
          "nun",
          "ballerina",
          "waitress",
          "housewife",
          "actress",
          "businesswoman"
         ],
         "textposition": "bottom center",
         "type": "scatter",
         "x": [
          -1,
          -0.9487179487179487,
          -0.8974358974358975,
          -0.8461538461538461,
          -0.7948717948717949,
          -0.7435897435897436,
          -0.6923076923076923,
          -0.641025641025641,
          -0.5897435897435898,
          -0.5384615384615385,
          -0.4871794871794872,
          -0.4358974358974359,
          -0.3846153846153846,
          -0.33333333333333337,
          -0.28205128205128205,
          -0.23076923076923084,
          -0.17948717948717952,
          -0.1282051282051282,
          -0.07692307692307698,
          -0.02564102564102566,
          0.02564102564102555,
          0.07692307692307687,
          0.1282051282051282,
          0.17948717948717952,
          0.23076923076923084,
          0.28205128205128194,
          0.33333333333333326,
          0.3846153846153846,
          0.4358974358974359,
          0.4871794871794872,
          0.5384615384615383,
          0.5897435897435896,
          0.641025641025641,
          0.6923076923076923,
          0.7435897435897436,
          0.7948717948717947,
          0.846153846153846,
          0.8974358974358974,
          0.9487179487179487,
          1
         ],
         "y": [
          -0.41548821330070496,
          -0.4115872085094452,
          -0.3297558128833771,
          -0.2997815012931824,
          -0.21665450930595398,
          -0.11345411837100983,
          -0.07300486415624619,
          -0.07216394692659378,
          -0.04147834703326225,
          -0.04051172733306885,
          -0.03736937418580055,
          -0.036916207522153854,
          -0.0334300771355629,
          -0.03282887488603592,
          -0.03210512548685074,
          -0.03120245411992073,
          -0.031152069568634033,
          -0.031070886179804802,
          -0.029434487223625183,
          -0.0293715987354517,
          0.03346695750951767,
          0.03364377096295357,
          0.03403571993112564,
          0.03452525660395622,
          0.03474751487374306,
          0.03765171393752098,
          0.037722330540418625,
          0.037771210074424744,
          0.038419853895902634,
          0.038888875395059586,
          0.04051315411925316,
          0.043088167905807495,
          0.04782203212380409,
          0.23776128888130188,
          0.24125955998897552,
          0.25276467204093933,
          0.27540290355682373,
          0.34036582708358765,
          0.3523513972759247,
          0.40583258867263794
         ]
        }
       ],
       "layout": {
        "height": 1000,
        "template": {
         "data": {
          "bar": [
           {
            "error_x": {
             "color": "#2a3f5f"
            },
            "error_y": {
             "color": "#2a3f5f"
            },
            "marker": {
             "line": {
              "color": "#E5ECF6",
              "width": 0.5
             },
             "pattern": {
              "fillmode": "overlay",
              "size": 10,
              "solidity": 0.2
             }
            },
            "type": "bar"
           }
          ],
          "barpolar": [
           {
            "marker": {
             "line": {
              "color": "#E5ECF6",
              "width": 0.5
             },
             "pattern": {
              "fillmode": "overlay",
              "size": 10,
              "solidity": 0.2
             }
            },
            "type": "barpolar"
           }
          ],
          "carpet": [
           {
            "aaxis": {
             "endlinecolor": "#2a3f5f",
             "gridcolor": "white",
             "linecolor": "white",
             "minorgridcolor": "white",
             "startlinecolor": "#2a3f5f"
            },
            "baxis": {
             "endlinecolor": "#2a3f5f",
             "gridcolor": "white",
             "linecolor": "white",
             "minorgridcolor": "white",
             "startlinecolor": "#2a3f5f"
            },
            "type": "carpet"
           }
          ],
          "choropleth": [
           {
            "colorbar": {
             "outlinewidth": 0,
             "ticks": ""
            },
            "type": "choropleth"
           }
          ],
          "contour": [
           {
            "colorbar": {
             "outlinewidth": 0,
             "ticks": ""
            },
            "colorscale": [
             [
              0,
              "#0d0887"
             ],
             [
              0.1111111111111111,
              "#46039f"
             ],
             [
              0.2222222222222222,
              "#7201a8"
             ],
             [
              0.3333333333333333,
              "#9c179e"
             ],
             [
              0.4444444444444444,
              "#bd3786"
             ],
             [
              0.5555555555555556,
              "#d8576b"
             ],
             [
              0.6666666666666666,
              "#ed7953"
             ],
             [
              0.7777777777777778,
              "#fb9f3a"
             ],
             [
              0.8888888888888888,
              "#fdca26"
             ],
             [
              1,
              "#f0f921"
             ]
            ],
            "type": "contour"
           }
          ],
          "contourcarpet": [
           {
            "colorbar": {
             "outlinewidth": 0,
             "ticks": ""
            },
            "type": "contourcarpet"
           }
          ],
          "heatmap": [
           {
            "colorbar": {
             "outlinewidth": 0,
             "ticks": ""
            },
            "colorscale": [
             [
              0,
              "#0d0887"
             ],
             [
              0.1111111111111111,
              "#46039f"
             ],
             [
              0.2222222222222222,
              "#7201a8"
             ],
             [
              0.3333333333333333,
              "#9c179e"
             ],
             [
              0.4444444444444444,
              "#bd3786"
             ],
             [
              0.5555555555555556,
              "#d8576b"
             ],
             [
              0.6666666666666666,
              "#ed7953"
             ],
             [
              0.7777777777777778,
              "#fb9f3a"
             ],
             [
              0.8888888888888888,
              "#fdca26"
             ],
             [
              1,
              "#f0f921"
             ]
            ],
            "type": "heatmap"
           }
          ],
          "heatmapgl": [
           {
            "colorbar": {
             "outlinewidth": 0,
             "ticks": ""
            },
            "colorscale": [
             [
              0,
              "#0d0887"
             ],
             [
              0.1111111111111111,
              "#46039f"
             ],
             [
              0.2222222222222222,
              "#7201a8"
             ],
             [
              0.3333333333333333,
              "#9c179e"
             ],
             [
              0.4444444444444444,
              "#bd3786"
             ],
             [
              0.5555555555555556,
              "#d8576b"
             ],
             [
              0.6666666666666666,
              "#ed7953"
             ],
             [
              0.7777777777777778,
              "#fb9f3a"
             ],
             [
              0.8888888888888888,
              "#fdca26"
             ],
             [
              1,
              "#f0f921"
             ]
            ],
            "type": "heatmapgl"
           }
          ],
          "histogram": [
           {
            "marker": {
             "pattern": {
              "fillmode": "overlay",
              "size": 10,
              "solidity": 0.2
             }
            },
            "type": "histogram"
           }
          ],
          "histogram2d": [
           {
            "colorbar": {
             "outlinewidth": 0,
             "ticks": ""
            },
            "colorscale": [
             [
              0,
              "#0d0887"
             ],
             [
              0.1111111111111111,
              "#46039f"
             ],
             [
              0.2222222222222222,
              "#7201a8"
             ],
             [
              0.3333333333333333,
              "#9c179e"
             ],
             [
              0.4444444444444444,
              "#bd3786"
             ],
             [
              0.5555555555555556,
              "#d8576b"
             ],
             [
              0.6666666666666666,
              "#ed7953"
             ],
             [
              0.7777777777777778,
              "#fb9f3a"
             ],
             [
              0.8888888888888888,
              "#fdca26"
             ],
             [
              1,
              "#f0f921"
             ]
            ],
            "type": "histogram2d"
           }
          ],
          "histogram2dcontour": [
           {
            "colorbar": {
             "outlinewidth": 0,
             "ticks": ""
            },
            "colorscale": [
             [
              0,
              "#0d0887"
             ],
             [
              0.1111111111111111,
              "#46039f"
             ],
             [
              0.2222222222222222,
              "#7201a8"
             ],
             [
              0.3333333333333333,
              "#9c179e"
             ],
             [
              0.4444444444444444,
              "#bd3786"
             ],
             [
              0.5555555555555556,
              "#d8576b"
             ],
             [
              0.6666666666666666,
              "#ed7953"
             ],
             [
              0.7777777777777778,
              "#fb9f3a"
             ],
             [
              0.8888888888888888,
              "#fdca26"
             ],
             [
              1,
              "#f0f921"
             ]
            ],
            "type": "histogram2dcontour"
           }
          ],
          "mesh3d": [
           {
            "colorbar": {
             "outlinewidth": 0,
             "ticks": ""
            },
            "type": "mesh3d"
           }
          ],
          "parcoords": [
           {
            "line": {
             "colorbar": {
              "outlinewidth": 0,
              "ticks": ""
             }
            },
            "type": "parcoords"
           }
          ],
          "pie": [
           {
            "automargin": true,
            "type": "pie"
           }
          ],
          "scatter": [
           {
            "fillpattern": {
             "fillmode": "overlay",
             "size": 10,
             "solidity": 0.2
            },
            "type": "scatter"
           }
          ],
          "scatter3d": [
           {
            "line": {
             "colorbar": {
              "outlinewidth": 0,
              "ticks": ""
             }
            },
            "marker": {
             "colorbar": {
              "outlinewidth": 0,
              "ticks": ""
             }
            },
            "type": "scatter3d"
           }
          ],
          "scattercarpet": [
           {
            "marker": {
             "colorbar": {
              "outlinewidth": 0,
              "ticks": ""
             }
            },
            "type": "scattercarpet"
           }
          ],
          "scattergeo": [
           {
            "marker": {
             "colorbar": {
              "outlinewidth": 0,
              "ticks": ""
             }
            },
            "type": "scattergeo"
           }
          ],
          "scattergl": [
           {
            "marker": {
             "colorbar": {
              "outlinewidth": 0,
              "ticks": ""
             }
            },
            "type": "scattergl"
           }
          ],
          "scattermapbox": [
           {
            "marker": {
             "colorbar": {
              "outlinewidth": 0,
              "ticks": ""
             }
            },
            "type": "scattermapbox"
           }
          ],
          "scatterpolar": [
           {
            "marker": {
             "colorbar": {
              "outlinewidth": 0,
              "ticks": ""
             }
            },
            "type": "scatterpolar"
           }
          ],
          "scatterpolargl": [
           {
            "marker": {
             "colorbar": {
              "outlinewidth": 0,
              "ticks": ""
             }
            },
            "type": "scatterpolargl"
           }
          ],
          "scatterternary": [
           {
            "marker": {
             "colorbar": {
              "outlinewidth": 0,
              "ticks": ""
             }
            },
            "type": "scatterternary"
           }
          ],
          "surface": [
           {
            "colorbar": {
             "outlinewidth": 0,
             "ticks": ""
            },
            "colorscale": [
             [
              0,
              "#0d0887"
             ],
             [
              0.1111111111111111,
              "#46039f"
             ],
             [
              0.2222222222222222,
              "#7201a8"
             ],
             [
              0.3333333333333333,
              "#9c179e"
             ],
             [
              0.4444444444444444,
              "#bd3786"
             ],
             [
              0.5555555555555556,
              "#d8576b"
             ],
             [
              0.6666666666666666,
              "#ed7953"
             ],
             [
              0.7777777777777778,
              "#fb9f3a"
             ],
             [
              0.8888888888888888,
              "#fdca26"
             ],
             [
              1,
              "#f0f921"
             ]
            ],
            "type": "surface"
           }
          ],
          "table": [
           {
            "cells": {
             "fill": {
              "color": "#EBF0F8"
             },
             "line": {
              "color": "white"
             }
            },
            "header": {
             "fill": {
              "color": "#C8D4E3"
             },
             "line": {
              "color": "white"
             }
            },
            "type": "table"
           }
          ]
         },
         "layout": {
          "annotationdefaults": {
           "arrowcolor": "#2a3f5f",
           "arrowhead": 0,
           "arrowwidth": 1
          },
          "autotypenumbers": "strict",
          "coloraxis": {
           "colorbar": {
            "outlinewidth": 0,
            "ticks": ""
           }
          },
          "colorscale": {
           "diverging": [
            [
             0,
             "#8e0152"
            ],
            [
             0.1,
             "#c51b7d"
            ],
            [
             0.2,
             "#de77ae"
            ],
            [
             0.3,
             "#f1b6da"
            ],
            [
             0.4,
             "#fde0ef"
            ],
            [
             0.5,
             "#f7f7f7"
            ],
            [
             0.6,
             "#e6f5d0"
            ],
            [
             0.7,
             "#b8e186"
            ],
            [
             0.8,
             "#7fbc41"
            ],
            [
             0.9,
             "#4d9221"
            ],
            [
             1,
             "#276419"
            ]
           ],
           "sequential": [
            [
             0,
             "#0d0887"
            ],
            [
             0.1111111111111111,
             "#46039f"
            ],
            [
             0.2222222222222222,
             "#7201a8"
            ],
            [
             0.3333333333333333,
             "#9c179e"
            ],
            [
             0.4444444444444444,
             "#bd3786"
            ],
            [
             0.5555555555555556,
             "#d8576b"
            ],
            [
             0.6666666666666666,
             "#ed7953"
            ],
            [
             0.7777777777777778,
             "#fb9f3a"
            ],
            [
             0.8888888888888888,
             "#fdca26"
            ],
            [
             1,
             "#f0f921"
            ]
           ],
           "sequentialminus": [
            [
             0,
             "#0d0887"
            ],
            [
             0.1111111111111111,
             "#46039f"
            ],
            [
             0.2222222222222222,
             "#7201a8"
            ],
            [
             0.3333333333333333,
             "#9c179e"
            ],
            [
             0.4444444444444444,
             "#bd3786"
            ],
            [
             0.5555555555555556,
             "#d8576b"
            ],
            [
             0.6666666666666666,
             "#ed7953"
            ],
            [
             0.7777777777777778,
             "#fb9f3a"
            ],
            [
             0.8888888888888888,
             "#fdca26"
            ],
            [
             1,
             "#f0f921"
            ]
           ]
          },
          "colorway": [
           "#636efa",
           "#EF553B",
           "#00cc96",
           "#ab63fa",
           "#FFA15A",
           "#19d3f3",
           "#FF6692",
           "#B6E880",
           "#FF97FF",
           "#FECB52"
          ],
          "font": {
           "color": "#2a3f5f"
          },
          "geo": {
           "bgcolor": "white",
           "lakecolor": "white",
           "landcolor": "#E5ECF6",
           "showlakes": true,
           "showland": true,
           "subunitcolor": "white"
          },
          "hoverlabel": {
           "align": "left"
          },
          "hovermode": "closest",
          "mapbox": {
           "style": "light"
          },
          "paper_bgcolor": "white",
          "plot_bgcolor": "#E5ECF6",
          "polar": {
           "angularaxis": {
            "gridcolor": "white",
            "linecolor": "white",
            "ticks": ""
           },
           "bgcolor": "#E5ECF6",
           "radialaxis": {
            "gridcolor": "white",
            "linecolor": "white",
            "ticks": ""
           }
          },
          "scene": {
           "xaxis": {
            "backgroundcolor": "#E5ECF6",
            "gridcolor": "white",
            "gridwidth": 2,
            "linecolor": "white",
            "showbackground": true,
            "ticks": "",
            "zerolinecolor": "white"
           },
           "yaxis": {
            "backgroundcolor": "#E5ECF6",
            "gridcolor": "white",
            "gridwidth": 2,
            "linecolor": "white",
            "showbackground": true,
            "ticks": "",
            "zerolinecolor": "white"
           },
           "zaxis": {
            "backgroundcolor": "#E5ECF6",
            "gridcolor": "white",
            "gridwidth": 2,
            "linecolor": "white",
            "showbackground": true,
            "ticks": "",
            "zerolinecolor": "white"
           }
          },
          "shapedefaults": {
           "line": {
            "color": "#2a3f5f"
           }
          },
          "ternary": {
           "aaxis": {
            "gridcolor": "white",
            "linecolor": "white",
            "ticks": ""
           },
           "baxis": {
            "gridcolor": "white",
            "linecolor": "white",
            "ticks": ""
           },
           "bgcolor": "#E5ECF6",
           "caxis": {
            "gridcolor": "white",
            "linecolor": "white",
            "ticks": ""
           }
          },
          "title": {
           "x": 0.05
          },
          "xaxis": {
           "automargin": true,
           "gridcolor": "white",
           "linecolor": "white",
           "ticks": "",
           "title": {
            "standoff": 15
           },
           "zerolinecolor": "white",
           "zerolinewidth": 2
          },
          "yaxis": {
           "automargin": true,
           "gridcolor": "white",
           "linecolor": "white",
           "ticks": "",
           "title": {
            "standoff": 15
           },
           "zerolinecolor": "white",
           "zerolinewidth": 2
          }
         }
        },
        "title": {
         "text": "Debiased Gender - Profession",
         "x": 0.5
        },
        "width": 1000,
        "xaxis": {
         "title": {
          "text": "Word Extremes"
         }
        },
        "yaxis": {
         "title": {
          "text": "Similarity"
         }
        }
       }
      },
      "text/html": [
       "<div>                            <div id=\"b1bdcd11-9c82-40b9-8313-dab6d59082c6\" class=\"plotly-graph-div\" style=\"height:1000px; width:1000px;\"></div>            <script type=\"text/javascript\">                require([\"plotly\"], function(Plotly) {                    window.PLOTLYENV=window.PLOTLYENV || {};                                    if (document.getElementById(\"b1bdcd11-9c82-40b9-8313-dab6d59082c6\")) {                    Plotly.newPlot(                        \"b1bdcd11-9c82-40b9-8313-dab6d59082c6\",                        [{\"mode\":\"markers+text\",\"name\":\"Markers and Text\",\"text\":[\"congressman\",\"businessman\",\"councilman\",\"dad\",\"statesman\",\"salesman\",\"monk\",\"handyman\",\"commander\",\"minister\",\"skipper\",\"commissioner\",\"observer\",\"manager\",\"firebrand\",\"surgeon\",\"citizen\",\"archbishop\",\"bishop\",\"captain\",\"drummer\",\"student\",\"illustrator\",\"patrolman\",\"hairdresser\",\"foreman\",\"carpenter\",\"pastor\",\"nanny\",\"teenager\",\"janitor\",\"firefighter\",\"wrestler\",\"maid\",\"nun\",\"ballerina\",\"waitress\",\"housewife\",\"actress\",\"businesswoman\"],\"textposition\":\"bottom center\",\"x\":[-1.0,-0.9487179487179487,-0.8974358974358975,-0.8461538461538461,-0.7948717948717949,-0.7435897435897436,-0.6923076923076923,-0.641025641025641,-0.5897435897435898,-0.5384615384615385,-0.4871794871794872,-0.4358974358974359,-0.3846153846153846,-0.33333333333333337,-0.28205128205128205,-0.23076923076923084,-0.17948717948717952,-0.1282051282051282,-0.07692307692307698,-0.02564102564102566,0.02564102564102555,0.07692307692307687,0.1282051282051282,0.17948717948717952,0.23076923076923084,0.28205128205128194,0.33333333333333326,0.3846153846153846,0.4358974358974359,0.4871794871794872,0.5384615384615383,0.5897435897435896,0.641025641025641,0.6923076923076923,0.7435897435897436,0.7948717948717947,0.846153846153846,0.8974358974358974,0.9487179487179487,1.0],\"y\":[-0.41548821330070496,-0.4115872085094452,-0.3297558128833771,-0.2997815012931824,-0.21665450930595398,-0.11345411837100983,-0.07300486415624619,-0.07216394692659378,-0.04147834703326225,-0.04051172733306885,-0.03736937418580055,-0.036916207522153854,-0.0334300771355629,-0.03282887488603592,-0.03210512548685074,-0.03120245411992073,-0.031152069568634033,-0.031070886179804802,-0.029434487223625183,-0.0293715987354517,0.03346695750951767,0.03364377096295357,0.03403571993112564,0.03452525660395622,0.03474751487374306,0.03765171393752098,0.037722330540418625,0.037771210074424744,0.038419853895902634,0.038888875395059586,0.04051315411925316,0.043088167905807495,0.04782203212380409,0.23776128888130188,0.24125955998897552,0.25276467204093933,0.27540290355682373,0.34036582708358765,0.3523513972759247,0.40583258867263794],\"type\":\"scatter\"}],                        {\"height\":1000,\"title\":{\"text\":\"Debiased Gender - Profession\",\"x\":0.5},\"width\":1000,\"xaxis\":{\"title\":{\"text\":\"Word Extremes\"}},\"yaxis\":{\"title\":{\"text\":\"Similarity\"}},\"template\":{\"data\":{\"histogram2dcontour\":[{\"type\":\"histogram2dcontour\",\"colorbar\":{\"outlinewidth\":0,\"ticks\":\"\"},\"colorscale\":[[0.0,\"#0d0887\"],[0.1111111111111111,\"#46039f\"],[0.2222222222222222,\"#7201a8\"],[0.3333333333333333,\"#9c179e\"],[0.4444444444444444,\"#bd3786\"],[0.5555555555555556,\"#d8576b\"],[0.6666666666666666,\"#ed7953\"],[0.7777777777777778,\"#fb9f3a\"],[0.8888888888888888,\"#fdca26\"],[1.0,\"#f0f921\"]]}],\"choropleth\":[{\"type\":\"choropleth\",\"colorbar\":{\"outlinewidth\":0,\"ticks\":\"\"}}],\"histogram2d\":[{\"type\":\"histogram2d\",\"colorbar\":{\"outlinewidth\":0,\"ticks\":\"\"},\"colorscale\":[[0.0,\"#0d0887\"],[0.1111111111111111,\"#46039f\"],[0.2222222222222222,\"#7201a8\"],[0.3333333333333333,\"#9c179e\"],[0.4444444444444444,\"#bd3786\"],[0.5555555555555556,\"#d8576b\"],[0.6666666666666666,\"#ed7953\"],[0.7777777777777778,\"#fb9f3a\"],[0.8888888888888888,\"#fdca26\"],[1.0,\"#f0f921\"]]}],\"heatmap\":[{\"type\":\"heatmap\",\"colorbar\":{\"outlinewidth\":0,\"ticks\":\"\"},\"colorscale\":[[0.0,\"#0d0887\"],[0.1111111111111111,\"#46039f\"],[0.2222222222222222,\"#7201a8\"],[0.3333333333333333,\"#9c179e\"],[0.4444444444444444,\"#bd3786\"],[0.5555555555555556,\"#d8576b\"],[0.6666666666666666,\"#ed7953\"],[0.7777777777777778,\"#fb9f3a\"],[0.8888888888888888,\"#fdca26\"],[1.0,\"#f0f921\"]]}],\"heatmapgl\":[{\"type\":\"heatmapgl\",\"colorbar\":{\"outlinewidth\":0,\"ticks\":\"\"},\"colorscale\":[[0.0,\"#0d0887\"],[0.1111111111111111,\"#46039f\"],[0.2222222222222222,\"#7201a8\"],[0.3333333333333333,\"#9c179e\"],[0.4444444444444444,\"#bd3786\"],[0.5555555555555556,\"#d8576b\"],[0.6666666666666666,\"#ed7953\"],[0.7777777777777778,\"#fb9f3a\"],[0.8888888888888888,\"#fdca26\"],[1.0,\"#f0f921\"]]}],\"contourcarpet\":[{\"type\":\"contourcarpet\",\"colorbar\":{\"outlinewidth\":0,\"ticks\":\"\"}}],\"contour\":[{\"type\":\"contour\",\"colorbar\":{\"outlinewidth\":0,\"ticks\":\"\"},\"colorscale\":[[0.0,\"#0d0887\"],[0.1111111111111111,\"#46039f\"],[0.2222222222222222,\"#7201a8\"],[0.3333333333333333,\"#9c179e\"],[0.4444444444444444,\"#bd3786\"],[0.5555555555555556,\"#d8576b\"],[0.6666666666666666,\"#ed7953\"],[0.7777777777777778,\"#fb9f3a\"],[0.8888888888888888,\"#fdca26\"],[1.0,\"#f0f921\"]]}],\"surface\":[{\"type\":\"surface\",\"colorbar\":{\"outlinewidth\":0,\"ticks\":\"\"},\"colorscale\":[[0.0,\"#0d0887\"],[0.1111111111111111,\"#46039f\"],[0.2222222222222222,\"#7201a8\"],[0.3333333333333333,\"#9c179e\"],[0.4444444444444444,\"#bd3786\"],[0.5555555555555556,\"#d8576b\"],[0.6666666666666666,\"#ed7953\"],[0.7777777777777778,\"#fb9f3a\"],[0.8888888888888888,\"#fdca26\"],[1.0,\"#f0f921\"]]}],\"mesh3d\":[{\"type\":\"mesh3d\",\"colorbar\":{\"outlinewidth\":0,\"ticks\":\"\"}}],\"scatter\":[{\"fillpattern\":{\"fillmode\":\"overlay\",\"size\":10,\"solidity\":0.2},\"type\":\"scatter\"}],\"parcoords\":[{\"type\":\"parcoords\",\"line\":{\"colorbar\":{\"outlinewidth\":0,\"ticks\":\"\"}}}],\"scatterpolargl\":[{\"type\":\"scatterpolargl\",\"marker\":{\"colorbar\":{\"outlinewidth\":0,\"ticks\":\"\"}}}],\"bar\":[{\"error_x\":{\"color\":\"#2a3f5f\"},\"error_y\":{\"color\":\"#2a3f5f\"},\"marker\":{\"line\":{\"color\":\"#E5ECF6\",\"width\":0.5},\"pattern\":{\"fillmode\":\"overlay\",\"size\":10,\"solidity\":0.2}},\"type\":\"bar\"}],\"scattergeo\":[{\"type\":\"scattergeo\",\"marker\":{\"colorbar\":{\"outlinewidth\":0,\"ticks\":\"\"}}}],\"scatterpolar\":[{\"type\":\"scatterpolar\",\"marker\":{\"colorbar\":{\"outlinewidth\":0,\"ticks\":\"\"}}}],\"histogram\":[{\"marker\":{\"pattern\":{\"fillmode\":\"overlay\",\"size\":10,\"solidity\":0.2}},\"type\":\"histogram\"}],\"scattergl\":[{\"type\":\"scattergl\",\"marker\":{\"colorbar\":{\"outlinewidth\":0,\"ticks\":\"\"}}}],\"scatter3d\":[{\"type\":\"scatter3d\",\"line\":{\"colorbar\":{\"outlinewidth\":0,\"ticks\":\"\"}},\"marker\":{\"colorbar\":{\"outlinewidth\":0,\"ticks\":\"\"}}}],\"scattermapbox\":[{\"type\":\"scattermapbox\",\"marker\":{\"colorbar\":{\"outlinewidth\":0,\"ticks\":\"\"}}}],\"scatterternary\":[{\"type\":\"scatterternary\",\"marker\":{\"colorbar\":{\"outlinewidth\":0,\"ticks\":\"\"}}}],\"scattercarpet\":[{\"type\":\"scattercarpet\",\"marker\":{\"colorbar\":{\"outlinewidth\":0,\"ticks\":\"\"}}}],\"carpet\":[{\"aaxis\":{\"endlinecolor\":\"#2a3f5f\",\"gridcolor\":\"white\",\"linecolor\":\"white\",\"minorgridcolor\":\"white\",\"startlinecolor\":\"#2a3f5f\"},\"baxis\":{\"endlinecolor\":\"#2a3f5f\",\"gridcolor\":\"white\",\"linecolor\":\"white\",\"minorgridcolor\":\"white\",\"startlinecolor\":\"#2a3f5f\"},\"type\":\"carpet\"}],\"table\":[{\"cells\":{\"fill\":{\"color\":\"#EBF0F8\"},\"line\":{\"color\":\"white\"}},\"header\":{\"fill\":{\"color\":\"#C8D4E3\"},\"line\":{\"color\":\"white\"}},\"type\":\"table\"}],\"barpolar\":[{\"marker\":{\"line\":{\"color\":\"#E5ECF6\",\"width\":0.5},\"pattern\":{\"fillmode\":\"overlay\",\"size\":10,\"solidity\":0.2}},\"type\":\"barpolar\"}],\"pie\":[{\"automargin\":true,\"type\":\"pie\"}]},\"layout\":{\"autotypenumbers\":\"strict\",\"colorway\":[\"#636efa\",\"#EF553B\",\"#00cc96\",\"#ab63fa\",\"#FFA15A\",\"#19d3f3\",\"#FF6692\",\"#B6E880\",\"#FF97FF\",\"#FECB52\"],\"font\":{\"color\":\"#2a3f5f\"},\"hovermode\":\"closest\",\"hoverlabel\":{\"align\":\"left\"},\"paper_bgcolor\":\"white\",\"plot_bgcolor\":\"#E5ECF6\",\"polar\":{\"bgcolor\":\"#E5ECF6\",\"angularaxis\":{\"gridcolor\":\"white\",\"linecolor\":\"white\",\"ticks\":\"\"},\"radialaxis\":{\"gridcolor\":\"white\",\"linecolor\":\"white\",\"ticks\":\"\"}},\"ternary\":{\"bgcolor\":\"#E5ECF6\",\"aaxis\":{\"gridcolor\":\"white\",\"linecolor\":\"white\",\"ticks\":\"\"},\"baxis\":{\"gridcolor\":\"white\",\"linecolor\":\"white\",\"ticks\":\"\"},\"caxis\":{\"gridcolor\":\"white\",\"linecolor\":\"white\",\"ticks\":\"\"}},\"coloraxis\":{\"colorbar\":{\"outlinewidth\":0,\"ticks\":\"\"}},\"colorscale\":{\"sequential\":[[0.0,\"#0d0887\"],[0.1111111111111111,\"#46039f\"],[0.2222222222222222,\"#7201a8\"],[0.3333333333333333,\"#9c179e\"],[0.4444444444444444,\"#bd3786\"],[0.5555555555555556,\"#d8576b\"],[0.6666666666666666,\"#ed7953\"],[0.7777777777777778,\"#fb9f3a\"],[0.8888888888888888,\"#fdca26\"],[1.0,\"#f0f921\"]],\"sequentialminus\":[[0.0,\"#0d0887\"],[0.1111111111111111,\"#46039f\"],[0.2222222222222222,\"#7201a8\"],[0.3333333333333333,\"#9c179e\"],[0.4444444444444444,\"#bd3786\"],[0.5555555555555556,\"#d8576b\"],[0.6666666666666666,\"#ed7953\"],[0.7777777777777778,\"#fb9f3a\"],[0.8888888888888888,\"#fdca26\"],[1.0,\"#f0f921\"]],\"diverging\":[[0,\"#8e0152\"],[0.1,\"#c51b7d\"],[0.2,\"#de77ae\"],[0.3,\"#f1b6da\"],[0.4,\"#fde0ef\"],[0.5,\"#f7f7f7\"],[0.6,\"#e6f5d0\"],[0.7,\"#b8e186\"],[0.8,\"#7fbc41\"],[0.9,\"#4d9221\"],[1,\"#276419\"]]},\"xaxis\":{\"gridcolor\":\"white\",\"linecolor\":\"white\",\"ticks\":\"\",\"title\":{\"standoff\":15},\"zerolinecolor\":\"white\",\"automargin\":true,\"zerolinewidth\":2},\"yaxis\":{\"gridcolor\":\"white\",\"linecolor\":\"white\",\"ticks\":\"\",\"title\":{\"standoff\":15},\"zerolinecolor\":\"white\",\"automargin\":true,\"zerolinewidth\":2},\"scene\":{\"xaxis\":{\"backgroundcolor\":\"#E5ECF6\",\"gridcolor\":\"white\",\"linecolor\":\"white\",\"showbackground\":true,\"ticks\":\"\",\"zerolinecolor\":\"white\",\"gridwidth\":2},\"yaxis\":{\"backgroundcolor\":\"#E5ECF6\",\"gridcolor\":\"white\",\"linecolor\":\"white\",\"showbackground\":true,\"ticks\":\"\",\"zerolinecolor\":\"white\",\"gridwidth\":2},\"zaxis\":{\"backgroundcolor\":\"#E5ECF6\",\"gridcolor\":\"white\",\"linecolor\":\"white\",\"showbackground\":true,\"ticks\":\"\",\"zerolinecolor\":\"white\",\"gridwidth\":2}},\"shapedefaults\":{\"line\":{\"color\":\"#2a3f5f\"}},\"annotationdefaults\":{\"arrowcolor\":\"#2a3f5f\",\"arrowhead\":0,\"arrowwidth\":1},\"geo\":{\"bgcolor\":\"white\",\"landcolor\":\"#E5ECF6\",\"subunitcolor\":\"white\",\"showland\":true,\"showlakes\":true,\"lakecolor\":\"white\"},\"title\":{\"x\":0.05},\"mapbox\":{\"style\":\"light\"}}}},                        {\"responsive\": true}                    ).then(function(){\n",
       "                            \n",
       "var gd = document.getElementById('b1bdcd11-9c82-40b9-8313-dab6d59082c6');\n",
       "var x = new MutationObserver(function (mutations, observer) {{\n",
       "        var display = window.getComputedStyle(gd).display;\n",
       "        if (!display || display === 'none') {{\n",
       "            console.log([gd, 'removed!']);\n",
       "            Plotly.purge(gd);\n",
       "            observer.disconnect();\n",
       "        }}\n",
       "}});\n",
       "\n",
       "// Listen for the removal of the full notebook cells\n",
       "var notebookContainer = gd.closest('#notebook-container');\n",
       "if (notebookContainer) {{\n",
       "    x.observe(notebookContainer, {childList: true});\n",
       "}}\n",
       "\n",
       "// Listen for the clearing of the current output cell\n",
       "var outputEl = gd.closest('.output');\n",
       "if (outputEl) {{\n",
       "    x.observe(outputEl, {childList: true});\n",
       "}}\n",
       "\n",
       "                        })                };                });            </script>        </div>"
      ]
     },
     "metadata": {},
     "output_type": "display_data"
    }
   ],
   "source": [
    "plot_words_extreme(sp_debiased[:20], sp_debiased[-20:], 40, x_title='Word Extremes', y_title='Similarity', \n",
    "title='Debiased Gender - Profession')"
   ]
  },
  {
   "cell_type": "markdown",
   "metadata": {},
   "source": [
    "### SOFT DEBIASING"
   ]
  },
  {
   "cell_type": "code",
   "execution_count": 33,
   "metadata": {},
   "outputs": [
    {
     "name": "stdout",
     "output_type": "stream",
     "text": [
      "*** Reading data from w2v_gnews_small.txt\n",
      "(26423, 300)\n",
      "26423 words of dimension 300 : in, for, that, is, ..., Jay, Leroy, Brad, Jermaine\n"
     ]
    }
   ],
   "source": [
    "#create new word emdedding for the purpose of testing soft debiasing\n",
    "E_soft = WordEmbedding('w2v_gnews_small.txt')\n"
   ]
  },
  {
   "cell_type": "code",
   "execution_count": 34,
   "metadata": {},
   "outputs": [
    {
     "name": "stdout",
     "output_type": "stream",
     "text": [
      "Optimization Completed, normalizing vector transform\n",
      "26423 words of dimension 300 : in, for, that, is, ..., Jay, Leroy, Brad, Jermaine\n"
     ]
    }
   ],
   "source": [
    "soft_debias(E_soft, gender_specific_words, defs, equalize_pairs)"
   ]
  },
  {
   "cell_type": "code",
   "execution_count": 35,
   "metadata": {},
   "outputs": [
    {
     "data": {
      "text/plain": [
       "([(-0.1777548, 'drug_addict'),\n",
       "  (-0.16677907, 'plastic_surgeon'),\n",
       "  (-0.16512035, 'actor'),\n",
       "  (-0.16350327, 'alter_ego'),\n",
       "  (-0.16339687, 'screenwriter'),\n",
       "  (-0.15790638, 'comic'),\n",
       "  (-0.15600741, 'confesses'),\n",
       "  (-0.15448184, 'psychiatrist'),\n",
       "  (-0.15214662, 'soft_spoken'),\n",
       "  (-0.14799502, 'teenager'),\n",
       "  (-0.14312887, 'neurosurgeon'),\n",
       "  (-0.13936411, 'lawmaker'),\n",
       "  (-0.13859978, 'comedian'),\n",
       "  (-0.13564049, 'singer_songwriter'),\n",
       "  (-0.13466011, 'cartoonist'),\n",
       "  (-0.13441814, 'poet'),\n",
       "  (-0.13341786, 'entrepreneur'),\n",
       "  (-0.13248195, 'parliamentarian'),\n",
       "  (-0.13184093, 'naturalist'),\n",
       "  (-0.12937966, 'homemaker')],\n",
       " [(0.023444435, 'ambassador'),\n",
       "  (0.025120577, 'ballerina'),\n",
       "  (0.025296357, 'assistant_professor'),\n",
       "  (0.025751486, 'rabbi'),\n",
       "  (0.029306762, 'infielder'),\n",
       "  (0.029671054, 'hooker'),\n",
       "  (0.029877175, 'professor'),\n",
       "  (0.030477457, 'adjunct_professor'),\n",
       "  (0.03172747, 'realtor'),\n",
       "  (0.040930294, 'paralegal'),\n",
       "  (0.041478716, 'president'),\n",
       "  (0.045913365, 'attorney'),\n",
       "  (0.051577006, 'archbishop'),\n",
       "  (0.052491024, 'firefighter'),\n",
       "  (0.053732865, 'manager'),\n",
       "  (0.055323694, 'alderman'),\n",
       "  (0.06152583, 'associate_dean'),\n",
       "  (0.0803458, 'dean'),\n",
       "  (0.08538013, 'employee'),\n",
       "  (0.11766038, 'landlord')])"
      ]
     },
     "execution_count": 35,
     "metadata": {},
     "output_type": "execute_result"
    }
   ],
   "source": [
    "# profession analysis gender\n",
    "sp_softdebiased = sorted([(E_soft.v(w).dot(v_gender), w) for w in profession_words])\n",
    "\n",
    "sp_softdebiased[0:20], sp_softdebiased[-20:]"
   ]
  },
  {
   "cell_type": "code",
   "execution_count": 36,
   "metadata": {},
   "outputs": [
    {
     "name": "stdout",
     "output_type": "stream",
     "text": [
      "Computing neighbors\n",
      "Mean: 7.023426560193771\n",
      "Median: 5.0\n",
      "transporters-transporter\n",
      "suit_alleges-indictment_alleges\n",
      "pour-inject\n",
      "claims-claimed\n",
      "sisters-twins\n",
      "flooding-flash_flooding\n",
      "peso-euro\n",
      "warmer-calmer\n",
      "city-county\n",
      "apples-pumpkin\n",
      "pilots-pilot\n",
      "weakens-loses\n",
      "rains-thunderstorms\n",
      "quieted-subsided\n",
      "vigorously-intensively\n",
      "exceedingly-remarkably\n",
      "dunk-dribble\n",
      "underwhelming-unremarkable\n",
      "flood-flash_flood\n",
      "stipulated-envisaged\n",
      "broke-smashed\n",
      "comes-takes\n",
      "migrant_workers-illegal_immigrants\n",
      "indignant-bemused\n",
      "hateful-profane\n",
      "withstood-survived\n",
      "imposition-impose\n",
      "intellectuals-poets\n",
      "superheroes-superhero\n",
      "payout-jackpot\n",
      "counterinsurgency-counter_terrorism\n",
      "nationalization-nationalized\n",
      "gays-bisexual\n",
      "topped-eclipsed\n",
      "songwriters-songwriter\n",
      "condo-bungalow\n",
      "energized-rejuvenated\n",
      "strived-aspired\n",
      "warriors-warrior\n",
      "hard_liners-hardline\n",
      "push-propel\n",
      "missionaries-missionary\n",
      "vampires-vampire\n",
      "antibiotic-injectable\n",
      "feminists-feminist\n",
      "utmost_importance-ensure\n",
      "invalidate-disqualify\n",
      "contends-insists\n",
      "argues-reckons\n",
      "alleged-suspected\n",
      "chin-forehead\n",
      "closets-bedrooms\n",
      "vanishing-disappeared\n",
      "firefighter-medic\n",
      "gags-comedy\n",
      "chilly-overcast\n",
      "sighed-grinned\n",
      "hydration-dehydrated\n",
      "drummers-guitarist\n",
      "wish-wished\n",
      "movers-mover\n",
      "minions-henchmen\n",
      "governed-governing\n",
      "zany-comedic\n",
      "scanning-x_ray\n",
      "horsemen-horse_racing\n",
      "rubble-wreckage\n",
      "orchestrating-masterminding\n",
      "relationship-rapport\n",
      "hate-hates\n",
      "believers-preaching\n",
      "politicians-politician\n",
      "descendants-descendant\n",
      "unpunished-unnoticed\n",
      "yuan-ringgit\n",
      "plowing-plowed\n",
      "leery-averse\n",
      "filmmakers-screenwriter\n",
      "fourteen-eleven\n",
      "reinforces-confirms\n",
      "strive-aspire\n",
      "reviewing-combing\n",
      "heals-healed\n",
      "firefighters-paramedic\n",
      "editorials-newspapers\n",
      "ballerina-heroine\n",
      "server-workstation\n",
      "simplistic-straightforward\n",
      "embargo-sanctions_imposed\n",
      "diamond_drilling-intersected\n",
      "purchase-acquire\n",
      "sexually-sexually_explicit\n",
      "philosophers-philosopher\n",
      "indifferent-unconcerned\n",
      "veterinarians-veterinary\n",
      "check-checks\n",
      "choppers-helicopter\n",
      "grasping-grasp\n",
      "bankers-banking\n",
      "marriage_equality-civil_unions\n",
      "unchecked-undetected\n",
      "thinkers-thinker\n",
      "furiously-feverishly\n",
      "boosters-booster\n",
      "cries-screams\n",
      "overwhelm-overpower\n",
      "spammers-hacker\n",
      "compromises-compromise\n",
      "complicate-derail\n",
      "diplomats-diplomat\n",
      "artworks-watercolors\n",
      "email-text_message\n",
      "molecules-molecular\n",
      "contended-insisted\n",
      "forecasted-predicted\n",
      "grieve-mourned\n",
      "biting-bitten\n",
      "bankruptcy_filing-reorganization\n",
      "combos-combo\n",
      "minivans-sedan\n",
      "simplifies-streamlines\n",
      "replicas-replica\n",
      "stipulation-stipulates\n",
      "usually-normally\n",
      "advancements-technology\n",
      "organizes-supervises\n",
      "infuriated-fumed\n",
      "severing-severed\n",
      "citywide-countywide\n",
      "inflame-incite\n",
      "furthering-achieving\n",
      "patriots-founding_fathers\n",
      "hurricane-tropical_storm\n",
      "slotting-rifled\n",
      "homophobia-sexuality\n",
      "taste_buds-cuisine\n",
      "yearn-crave\n",
      "dentists-dental\n",
      "orchestrated-masterminded\n",
      "preemptive-unilateral\n",
      "torching-torched\n",
      "expenditures-budget\n",
      "evaluating-analyzing\n",
      "halfback-fullback\n",
      "supported-endorsed\n",
      "annexation-zoning\n",
      "gurus-guru\n",
      "reiterates-reiterated\n",
      "duplicates-duplicate\n",
      "faster-smoother\n",
      "liberals-centrist\n",
      "came-took\n",
      "itself-himself\n",
      "president-chief_executive\n",
      "stockpiling-stockpiled\n",
      "pursues-achieves\n",
      "geographically-geographical\n",
      "marched-walked\n",
      "dealership-car\n",
      "imperialism-civilization\n",
      "thanking-paid_tribute\n",
      "units-unit\n",
      "dean-superintendent\n",
      "telecom_operators-telecoms\n",
      "fundamentalists-fundamentalist\n",
      "folks-dudes\n",
      "banged-nicked\n",
      "envision-dreamed\n",
      "succumbing-succumbed\n",
      "pressed-asked\n",
      "soup-macaroni\n",
      "strives-aspires\n",
      "corals-reef\n",
      "moving-drifting\n",
      "correspondents-correspondent\n",
      "strained-bruised\n",
      "graduating-graduated\n",
      "shipped-smuggled\n",
      "osteoarthritis-psoriasis\n",
      "acknowledge-acknowledged\n",
      "hammered-thrashed\n",
      "denounced-deplored\n",
      "appease-allay\n",
      "walkers-walker\n",
      "sends-transmits\n",
      "alligators-reptile\n",
      "buffs-buff\n",
      "patent_infringement-antitrust\n",
      "radicalism-extremist\n",
      "clustered-clusters\n",
      "polar_bear-whale\n",
      "shortstop-leadoff_hitter\n",
      "ranchers-rancher\n",
      "nerds-nerd\n",
      "nurses-nurse\n",
      "cautioning-warned\n",
      "thoughtfully-beautifully\n",
      "masks-mask\n",
      "eternal-immortality\n",
      "passersby-passerby\n",
      "alerting-alerted\n",
      "alluring-glamorous\n",
      "tightening-easing\n",
      "gratified-heartened\n",
      "accuse-accused\n",
      "disagree-agree\n",
      "sixty-fifty\n",
      "refine-hone\n",
      "feverish-fever\n",
      "ploy-ruse\n",
      "profits-pretax_profit\n",
      "collaboration-synergy\n",
      "telcos-telco\n",
      "tweet-tweeted\n",
      "lament-lamented\n",
      "vacationers-tourist\n",
      "thinner-slimmer\n",
      "incredibly-unbelievably\n",
      "clouded-overshadowed\n",
      "investors-equities\n",
      "asked-quizzed\n",
      "underscores-belies\n",
      "bombing-bomber\n",
      "attempted_murder-arrested\n",
      "evaluations-tests\n",
      "recalls-remembers\n",
      "compliments-praise\n",
      "overpriced-priced\n",
      "supply_disruptions-crude_oil\n",
      "desire-ambition\n",
      "driving-driver\n",
      "metrics-benchmarks\n",
      "diminishing-diminished\n",
      "thrives-relishes\n",
      "prevailed-triumphed\n",
      "reconsideration-reconsidered\n",
      "automated-computerized\n",
      "confess-confessed\n",
      "holdouts-holdout\n",
      "angry-distraught\n",
      "invite-greet\n",
      "hurting-hurt\n",
      "merchants-merchant\n",
      "shop-cafe\n",
      "tumor_cells-tumor\n",
      "tenants-apartment_complexes\n",
      "shotguns-shotgun\n",
      "telling-told\n",
      "microbes-bacterium\n",
      "drastically-radically\n",
      "gardeners-gardener\n",
      "stressful-nerve_racking\n",
      "clamp-curb\n",
      "phones-mobile_phones\n",
      "ensuing_kickoff-punt\n",
      "annoying-weird\n",
      "underwriters-aggregate_principal\n",
      "dedication-work_ethic\n",
      "request-requested\n",
      "acknowledges-admitted\n",
      "soft_tissue-facial\n",
      "congressman-lawmaker\n",
      "looped-flicked\n",
      "inpatient-outpatient\n",
      "pedophilia-pedophile\n",
      "financiers-financier\n",
      "budget_shortfalls-budget_shortfall\n",
      "lawyers-lawyer\n",
      "flip_flops-sunglasses\n",
      "arrogant-cocky\n",
      "strong-solid\n",
      "undertook-underwent\n",
      "oppression-victimization\n",
      "frenzied-manic\n",
      "wagons-wagon\n",
      "dismissing-brushed_aside\n",
      "poured-splashed\n",
      "formulate-outline\n",
      "plummeting-slumped\n",
      "investor-private_equity\n",
      "rector-headmaster\n",
      "lender-bank\n",
      "vines-oak\n",
      "rescues-rescued\n",
      "sweaters-jeans\n",
      "mob-gangster\n",
      "lobbied-advocated\n",
      "peasants-downtrodden\n",
      "thoughtful-introspective\n",
      "bipartisanship-bipartisan\n",
      "join-rejoin\n",
      "aldermen-council\n",
      "earthquake-tremor\n",
      "leftists-anarchists\n",
      "vacations-sightseeing\n",
      "flames-fireball\n",
      "decrepit-scruffy\n",
      "fearful-terrified\n",
      "unassisted_goal-scored\n",
      "vow-vowed\n",
      "unintentionally-unwittingly\n",
      "servants-servant\n",
      "often-rarely\n",
      "research-genomics\n",
      "suppliers-wholesaler\n",
      "psychologists-psychiatrist\n",
      "surged-gained\n",
      "outdo-emulate\n",
      "farmers-farmer\n",
      "promotions-merchandising\n",
      "drug_trafficking-heroin\n",
      "demanding-demanded\n",
      "servers-computers\n",
      "oppressive-overbearing\n",
      "creditors-restructure\n",
      "restore-recapture\n",
      "extradition-extradited\n",
      "outsiders-outsider\n",
      "snowstorm-thunderstorm\n",
      "travelers-passengers\n",
      "glitzy-glamor\n",
      "endemic-eradicated\n",
      "intermission-halftime\n",
      "therapists-therapist\n",
      "menopause-puberty\n",
      "abnormally-abnormal\n",
      "cops-detective\n",
      "evaluates-assesses\n",
      "desires-dreams\n",
      "exacerbated-attributed\n",
      "emails-letters\n",
      "retirees-pensioners\n",
      "murderous-deranged\n",
      "swayed-influenced\n",
      "streamed-beamed\n",
      "deteriorated-stabilized\n",
      "frenzy-mania\n",
      "dining_hall-cafeteria\n",
      "flight_attendants-airline\n",
      "placings-handicap\n",
      "bakers-baker\n",
      "feds-federal\n",
      "guilty_pleas-pleaded_guilty\n",
      "lays-outlines\n",
      "fatally_shooting-critically_injured\n",
      "indifference-disgust\n",
      "consulate-consular\n",
      "portion-chunk\n",
      "commute-commuter\n",
      "cartoons-comic_strip\n",
      "bravado-swagger\n",
      "spinners-spinner\n",
      "importing-transporting\n",
      "inhumane-unacceptable\n",
      "contemplates-foresees\n",
      "groundout-leadoff\n",
      "wharf-jetty\n",
      "atrocities-crimes\n",
      "honored-nominated\n",
      "hipster-punk\n",
      "winemakers-winemaker\n",
      "discharges-discharged\n",
      "detentions-detained\n",
      "carriers-carrier\n",
      "unclear-unknown\n",
      "pesos-euros\n",
      "skid-winning_streak\n",
      "swimsuit-topless\n",
      "largest-biggest\n",
      "perplexing-strange\n",
      "inclement_weather-rainstorm\n",
      "smokers-quit_smoking\n",
      "solidarity-unity\n",
      "hats-wigs\n",
      "reports-reported\n",
      "asbestos-toxic_waste\n",
      "evictions-evicted\n",
      "periodically-regularly\n",
      "irritant-impediment\n",
      "communists-socialist\n",
      "nonetheless-although\n",
      "critters-creature\n",
      "scripts-script\n",
      "legislative_session-legislative\n",
      "need-needed\n",
      "bureaucrats-bureaucrat\n",
      "faithful-devout\n",
      "paramilitaries-militia\n",
      "flats-bungalows\n",
      "short_sighted-foolish\n",
      "breaking-smashing\n",
      "professor-physicist\n",
      "crystals-microscopic\n",
      "batteries-charger\n",
      "laborers-laborer\n",
      "eleventh-first\n",
      "retaliate-punish\n",
      "shortening-shortest\n",
      "disheartened-despondent\n",
      "hawks-hawk\n",
      "wore-sported\n",
      "swells-waves\n",
      "salesmen-salesman\n",
      "jargon-lingo\n",
      "acted-acting\n",
      "squash-badminton\n",
      "mail-courier\n",
      "tigers-gorillas\n",
      "consultants-consultancy\n",
      "electric_motors-cylinder_engine\n",
      "depositions-interviews\n",
      "inscribed-etched\n",
      "evolves-learns\n",
      "directed-helmed\n",
      "peacekeepers-peacekeeping_force\n",
      "humid-sunny\n",
      "reiterate-reaffirmed\n",
      "inept-bumbling\n",
      "hacking-hacked\n",
      "attempted_robbery-robbed\n",
      "forwards-playmakers\n",
      "resiliency-toughness\n",
      "water-creek\n",
      "applaud-admire\n",
      "dislocated-undergoing_surgery\n",
      "rulers-monarch\n",
      "the-in\n",
      "reckless_driving-drug_paraphernalia\n",
      "visa-passport\n",
      "region-regional\n",
      "touchdown-yards\n",
      "awards-prizes\n",
      "prints-watercolor\n",
      "questionnaires-randomly_selected\n",
      "impeachment-impeach\n",
      "framed-painted\n",
      "jockeys-jockey\n",
      "airliners-plane\n",
      "cyclists-cyclist\n",
      "dinosaurs-dinosaur\n",
      "drown-drowned\n",
      "traffickers-smuggler\n",
      "walnuts-basil\n",
      "shirts-wristbands\n",
      "behaviors-behavioral\n",
      "arbitrator-mediator\n",
      "lung_disease-pneumonia\n",
      "ears-ear\n",
      "intertwined-inseparable\n",
      "reuse-reused\n",
      "efforts-initiatives\n",
      "contemplation-meditation\n",
      "deaths-died\n",
      "prominence-stardom\n",
      "humble-unassuming\n",
      "rent-rented\n",
      "cutting-slash\n",
      "unlawful_possession-possessing\n",
      "standing-sitting\n",
      "you-someone\n",
      "pressuring-persuading\n",
      "brotherhood-camaraderie\n",
      "contemplate-envisage\n",
      "aching-aches\n",
      "slows-halts\n",
      "aficionados-enthusiast\n",
      "pests-pathogen\n",
      "listens-attends\n",
      "renowned-acclaimed\n",
      "geniuses-genius\n",
      "transplanted-transplant\n",
      "slideshow-pictures\n",
      "corn-biodiesel\n",
      "embezzlement-embezzled\n",
      "millionaires-millionaire\n",
      "suggests-revealed\n",
      "initiates-participates\n",
      "hypocritical-hypocrite\n",
      "apprised-briefed\n",
      "grads-schoolers\n",
      "booing-jeered\n",
      "visit-visited\n",
      "intrigue-drama\n",
      "seminars-workshops\n",
      "mesothelioma-leukemia\n",
      "partners-partnerships\n",
      "tremendously-lot\n",
      "climbing-rock_climbing\n",
      "improperly-unauthorized\n",
      "alumni-classmates\n",
      "bother-faze\n",
      "franchisees-franchised\n",
      "countered-concurred\n",
      "fear-feared\n",
      "trustees-board\n",
      "flap-furore\n",
      "lenders-refinancing\n",
      "homerun-solo_homers\n",
      "strap-strapping\n",
      "exemplified-epitomized\n"
     ]
    }
   ],
   "source": [
    "# analogies gender\n",
    "a_gender_softdebiased = E_soft.best_analogies_dist_thresh(v_gender)\n",
    "\n",
    "for (a,b,c) in a_gender_softdebiased:\n",
    "    print(a+\"-\"+b)"
   ]
  },
  {
   "cell_type": "code",
   "execution_count": 35,
   "metadata": {},
   "outputs": [
    {
     "name": "stdout",
     "output_type": "stream",
     "text": [
      "Cosine similarity between 'dog' and 'tree': 0.2898\n"
     ]
    }
   ],
   "source": [
    "from sklearn.metrics.pairwise import cosine_similarity\n",
    "\n",
    "def compute_cosine_similarity(embedding, word1, word2):\n",
    "    vec1 = embedding.v(word1).reshape(1, -1)\n",
    "    vec2 = embedding.v(word2).reshape(1, -1)\n",
    "    return cosine_similarity(vec1, vec2)[0][0]\n",
    "\n",
    "# Example usage\n",
    "word1 = 'dog'\n",
    "word2 = 'tree'\n",
    "similarity = compute_cosine_similarity(E, word1, word2)\n",
    "print(f\"Cosine similarity between '{word1}' and '{word2}': {similarity:.4f}\")\n"
   ]
  },
  {
   "cell_type": "code",
   "execution_count": 37,
   "metadata": {},
   "outputs": [],
   "source": [
    "for (a,b,c) in a_gender_softdebiased:\n",
    "    if a in she_occupation:\n",
    "        print(a+\"-\"+b+\"-\"+str(c))"
   ]
  },
  {
   "cell_type": "code",
   "execution_count": 38,
   "metadata": {},
   "outputs": [
    {
     "data": {
      "application/vnd.plotly.v1+json": {
       "config": {
        "plotlyServerURL": "https://plot.ly"
       },
       "data": [
        {
         "mode": "markers+text",
         "name": "Markers and Text",
         "text": [
          "drug_addict",
          "plastic_surgeon",
          "actor",
          "alter_ego",
          "screenwriter",
          "comic",
          "confesses",
          "psychiatrist",
          "soft_spoken",
          "teenager",
          "neurosurgeon",
          "lawmaker",
          "comedian",
          "singer_songwriter",
          "cartoonist",
          "poet",
          "entrepreneur",
          "parliamentarian",
          "naturalist",
          "homemaker",
          "ambassador",
          "ballerina",
          "assistant_professor",
          "rabbi",
          "infielder",
          "hooker",
          "professor",
          "adjunct_professor",
          "realtor",
          "paralegal",
          "president",
          "attorney",
          "archbishop",
          "firefighter",
          "manager",
          "alderman",
          "associate_dean",
          "dean",
          "employee",
          "landlord"
         ],
         "textposition": "bottom center",
         "type": "scatter",
         "x": [
          -1,
          -0.9487179487179487,
          -0.8974358974358975,
          -0.8461538461538461,
          -0.7948717948717949,
          -0.7435897435897436,
          -0.6923076923076923,
          -0.641025641025641,
          -0.5897435897435898,
          -0.5384615384615385,
          -0.4871794871794872,
          -0.4358974358974359,
          -0.3846153846153846,
          -0.33333333333333337,
          -0.28205128205128205,
          -0.23076923076923084,
          -0.17948717948717952,
          -0.1282051282051282,
          -0.07692307692307698,
          -0.02564102564102566,
          0.02564102564102555,
          0.07692307692307687,
          0.1282051282051282,
          0.17948717948717952,
          0.23076923076923084,
          0.28205128205128194,
          0.33333333333333326,
          0.3846153846153846,
          0.4358974358974359,
          0.4871794871794872,
          0.5384615384615383,
          0.5897435897435896,
          0.641025641025641,
          0.6923076923076923,
          0.7435897435897436,
          0.7948717948717947,
          0.846153846153846,
          0.8974358974358974,
          0.9487179487179487,
          1
         ],
         "y": [
          -0.17775480449199677,
          -0.1667790710926056,
          -0.16512034833431244,
          -0.1635032743215561,
          -0.16339686512947083,
          -0.15790638327598572,
          -0.15600740909576416,
          -0.15448184311389923,
          -0.1521466225385666,
          -0.1479950249195099,
          -0.1431288719177246,
          -0.1393641084432602,
          -0.13859978318214417,
          -0.135640487074852,
          -0.13466010987758636,
          -0.13441814482212067,
          -0.13341785967350006,
          -0.13248194754123688,
          -0.13184092938899994,
          -0.12937965989112854,
          0.023444434627890587,
          0.025120576843619347,
          0.02529635652899742,
          0.02575148642063141,
          0.029306761920452118,
          0.02967105433344841,
          0.029877174645662308,
          0.030477456748485565,
          0.031727470457553864,
          0.04093029350042343,
          0.0414787158370018,
          0.04591336473822594,
          0.05157700553536415,
          0.052491024136543274,
          0.05373286455869675,
          0.05532369390130043,
          0.06152582913637161,
          0.08034580200910568,
          0.08538012951612473,
          0.11766038089990616
         ]
        }
       ],
       "layout": {
        "height": 1000,
        "template": {
         "data": {
          "bar": [
           {
            "error_x": {
             "color": "#2a3f5f"
            },
            "error_y": {
             "color": "#2a3f5f"
            },
            "marker": {
             "line": {
              "color": "#E5ECF6",
              "width": 0.5
             },
             "pattern": {
              "fillmode": "overlay",
              "size": 10,
              "solidity": 0.2
             }
            },
            "type": "bar"
           }
          ],
          "barpolar": [
           {
            "marker": {
             "line": {
              "color": "#E5ECF6",
              "width": 0.5
             },
             "pattern": {
              "fillmode": "overlay",
              "size": 10,
              "solidity": 0.2
             }
            },
            "type": "barpolar"
           }
          ],
          "carpet": [
           {
            "aaxis": {
             "endlinecolor": "#2a3f5f",
             "gridcolor": "white",
             "linecolor": "white",
             "minorgridcolor": "white",
             "startlinecolor": "#2a3f5f"
            },
            "baxis": {
             "endlinecolor": "#2a3f5f",
             "gridcolor": "white",
             "linecolor": "white",
             "minorgridcolor": "white",
             "startlinecolor": "#2a3f5f"
            },
            "type": "carpet"
           }
          ],
          "choropleth": [
           {
            "colorbar": {
             "outlinewidth": 0,
             "ticks": ""
            },
            "type": "choropleth"
           }
          ],
          "contour": [
           {
            "colorbar": {
             "outlinewidth": 0,
             "ticks": ""
            },
            "colorscale": [
             [
              0,
              "#0d0887"
             ],
             [
              0.1111111111111111,
              "#46039f"
             ],
             [
              0.2222222222222222,
              "#7201a8"
             ],
             [
              0.3333333333333333,
              "#9c179e"
             ],
             [
              0.4444444444444444,
              "#bd3786"
             ],
             [
              0.5555555555555556,
              "#d8576b"
             ],
             [
              0.6666666666666666,
              "#ed7953"
             ],
             [
              0.7777777777777778,
              "#fb9f3a"
             ],
             [
              0.8888888888888888,
              "#fdca26"
             ],
             [
              1,
              "#f0f921"
             ]
            ],
            "type": "contour"
           }
          ],
          "contourcarpet": [
           {
            "colorbar": {
             "outlinewidth": 0,
             "ticks": ""
            },
            "type": "contourcarpet"
           }
          ],
          "heatmap": [
           {
            "colorbar": {
             "outlinewidth": 0,
             "ticks": ""
            },
            "colorscale": [
             [
              0,
              "#0d0887"
             ],
             [
              0.1111111111111111,
              "#46039f"
             ],
             [
              0.2222222222222222,
              "#7201a8"
             ],
             [
              0.3333333333333333,
              "#9c179e"
             ],
             [
              0.4444444444444444,
              "#bd3786"
             ],
             [
              0.5555555555555556,
              "#d8576b"
             ],
             [
              0.6666666666666666,
              "#ed7953"
             ],
             [
              0.7777777777777778,
              "#fb9f3a"
             ],
             [
              0.8888888888888888,
              "#fdca26"
             ],
             [
              1,
              "#f0f921"
             ]
            ],
            "type": "heatmap"
           }
          ],
          "heatmapgl": [
           {
            "colorbar": {
             "outlinewidth": 0,
             "ticks": ""
            },
            "colorscale": [
             [
              0,
              "#0d0887"
             ],
             [
              0.1111111111111111,
              "#46039f"
             ],
             [
              0.2222222222222222,
              "#7201a8"
             ],
             [
              0.3333333333333333,
              "#9c179e"
             ],
             [
              0.4444444444444444,
              "#bd3786"
             ],
             [
              0.5555555555555556,
              "#d8576b"
             ],
             [
              0.6666666666666666,
              "#ed7953"
             ],
             [
              0.7777777777777778,
              "#fb9f3a"
             ],
             [
              0.8888888888888888,
              "#fdca26"
             ],
             [
              1,
              "#f0f921"
             ]
            ],
            "type": "heatmapgl"
           }
          ],
          "histogram": [
           {
            "marker": {
             "pattern": {
              "fillmode": "overlay",
              "size": 10,
              "solidity": 0.2
             }
            },
            "type": "histogram"
           }
          ],
          "histogram2d": [
           {
            "colorbar": {
             "outlinewidth": 0,
             "ticks": ""
            },
            "colorscale": [
             [
              0,
              "#0d0887"
             ],
             [
              0.1111111111111111,
              "#46039f"
             ],
             [
              0.2222222222222222,
              "#7201a8"
             ],
             [
              0.3333333333333333,
              "#9c179e"
             ],
             [
              0.4444444444444444,
              "#bd3786"
             ],
             [
              0.5555555555555556,
              "#d8576b"
             ],
             [
              0.6666666666666666,
              "#ed7953"
             ],
             [
              0.7777777777777778,
              "#fb9f3a"
             ],
             [
              0.8888888888888888,
              "#fdca26"
             ],
             [
              1,
              "#f0f921"
             ]
            ],
            "type": "histogram2d"
           }
          ],
          "histogram2dcontour": [
           {
            "colorbar": {
             "outlinewidth": 0,
             "ticks": ""
            },
            "colorscale": [
             [
              0,
              "#0d0887"
             ],
             [
              0.1111111111111111,
              "#46039f"
             ],
             [
              0.2222222222222222,
              "#7201a8"
             ],
             [
              0.3333333333333333,
              "#9c179e"
             ],
             [
              0.4444444444444444,
              "#bd3786"
             ],
             [
              0.5555555555555556,
              "#d8576b"
             ],
             [
              0.6666666666666666,
              "#ed7953"
             ],
             [
              0.7777777777777778,
              "#fb9f3a"
             ],
             [
              0.8888888888888888,
              "#fdca26"
             ],
             [
              1,
              "#f0f921"
             ]
            ],
            "type": "histogram2dcontour"
           }
          ],
          "mesh3d": [
           {
            "colorbar": {
             "outlinewidth": 0,
             "ticks": ""
            },
            "type": "mesh3d"
           }
          ],
          "parcoords": [
           {
            "line": {
             "colorbar": {
              "outlinewidth": 0,
              "ticks": ""
             }
            },
            "type": "parcoords"
           }
          ],
          "pie": [
           {
            "automargin": true,
            "type": "pie"
           }
          ],
          "scatter": [
           {
            "fillpattern": {
             "fillmode": "overlay",
             "size": 10,
             "solidity": 0.2
            },
            "type": "scatter"
           }
          ],
          "scatter3d": [
           {
            "line": {
             "colorbar": {
              "outlinewidth": 0,
              "ticks": ""
             }
            },
            "marker": {
             "colorbar": {
              "outlinewidth": 0,
              "ticks": ""
             }
            },
            "type": "scatter3d"
           }
          ],
          "scattercarpet": [
           {
            "marker": {
             "colorbar": {
              "outlinewidth": 0,
              "ticks": ""
             }
            },
            "type": "scattercarpet"
           }
          ],
          "scattergeo": [
           {
            "marker": {
             "colorbar": {
              "outlinewidth": 0,
              "ticks": ""
             }
            },
            "type": "scattergeo"
           }
          ],
          "scattergl": [
           {
            "marker": {
             "colorbar": {
              "outlinewidth": 0,
              "ticks": ""
             }
            },
            "type": "scattergl"
           }
          ],
          "scattermapbox": [
           {
            "marker": {
             "colorbar": {
              "outlinewidth": 0,
              "ticks": ""
             }
            },
            "type": "scattermapbox"
           }
          ],
          "scatterpolar": [
           {
            "marker": {
             "colorbar": {
              "outlinewidth": 0,
              "ticks": ""
             }
            },
            "type": "scatterpolar"
           }
          ],
          "scatterpolargl": [
           {
            "marker": {
             "colorbar": {
              "outlinewidth": 0,
              "ticks": ""
             }
            },
            "type": "scatterpolargl"
           }
          ],
          "scatterternary": [
           {
            "marker": {
             "colorbar": {
              "outlinewidth": 0,
              "ticks": ""
             }
            },
            "type": "scatterternary"
           }
          ],
          "surface": [
           {
            "colorbar": {
             "outlinewidth": 0,
             "ticks": ""
            },
            "colorscale": [
             [
              0,
              "#0d0887"
             ],
             [
              0.1111111111111111,
              "#46039f"
             ],
             [
              0.2222222222222222,
              "#7201a8"
             ],
             [
              0.3333333333333333,
              "#9c179e"
             ],
             [
              0.4444444444444444,
              "#bd3786"
             ],
             [
              0.5555555555555556,
              "#d8576b"
             ],
             [
              0.6666666666666666,
              "#ed7953"
             ],
             [
              0.7777777777777778,
              "#fb9f3a"
             ],
             [
              0.8888888888888888,
              "#fdca26"
             ],
             [
              1,
              "#f0f921"
             ]
            ],
            "type": "surface"
           }
          ],
          "table": [
           {
            "cells": {
             "fill": {
              "color": "#EBF0F8"
             },
             "line": {
              "color": "white"
             }
            },
            "header": {
             "fill": {
              "color": "#C8D4E3"
             },
             "line": {
              "color": "white"
             }
            },
            "type": "table"
           }
          ]
         },
         "layout": {
          "annotationdefaults": {
           "arrowcolor": "#2a3f5f",
           "arrowhead": 0,
           "arrowwidth": 1
          },
          "autotypenumbers": "strict",
          "coloraxis": {
           "colorbar": {
            "outlinewidth": 0,
            "ticks": ""
           }
          },
          "colorscale": {
           "diverging": [
            [
             0,
             "#8e0152"
            ],
            [
             0.1,
             "#c51b7d"
            ],
            [
             0.2,
             "#de77ae"
            ],
            [
             0.3,
             "#f1b6da"
            ],
            [
             0.4,
             "#fde0ef"
            ],
            [
             0.5,
             "#f7f7f7"
            ],
            [
             0.6,
             "#e6f5d0"
            ],
            [
             0.7,
             "#b8e186"
            ],
            [
             0.8,
             "#7fbc41"
            ],
            [
             0.9,
             "#4d9221"
            ],
            [
             1,
             "#276419"
            ]
           ],
           "sequential": [
            [
             0,
             "#0d0887"
            ],
            [
             0.1111111111111111,
             "#46039f"
            ],
            [
             0.2222222222222222,
             "#7201a8"
            ],
            [
             0.3333333333333333,
             "#9c179e"
            ],
            [
             0.4444444444444444,
             "#bd3786"
            ],
            [
             0.5555555555555556,
             "#d8576b"
            ],
            [
             0.6666666666666666,
             "#ed7953"
            ],
            [
             0.7777777777777778,
             "#fb9f3a"
            ],
            [
             0.8888888888888888,
             "#fdca26"
            ],
            [
             1,
             "#f0f921"
            ]
           ],
           "sequentialminus": [
            [
             0,
             "#0d0887"
            ],
            [
             0.1111111111111111,
             "#46039f"
            ],
            [
             0.2222222222222222,
             "#7201a8"
            ],
            [
             0.3333333333333333,
             "#9c179e"
            ],
            [
             0.4444444444444444,
             "#bd3786"
            ],
            [
             0.5555555555555556,
             "#d8576b"
            ],
            [
             0.6666666666666666,
             "#ed7953"
            ],
            [
             0.7777777777777778,
             "#fb9f3a"
            ],
            [
             0.8888888888888888,
             "#fdca26"
            ],
            [
             1,
             "#f0f921"
            ]
           ]
          },
          "colorway": [
           "#636efa",
           "#EF553B",
           "#00cc96",
           "#ab63fa",
           "#FFA15A",
           "#19d3f3",
           "#FF6692",
           "#B6E880",
           "#FF97FF",
           "#FECB52"
          ],
          "font": {
           "color": "#2a3f5f"
          },
          "geo": {
           "bgcolor": "white",
           "lakecolor": "white",
           "landcolor": "#E5ECF6",
           "showlakes": true,
           "showland": true,
           "subunitcolor": "white"
          },
          "hoverlabel": {
           "align": "left"
          },
          "hovermode": "closest",
          "mapbox": {
           "style": "light"
          },
          "paper_bgcolor": "white",
          "plot_bgcolor": "#E5ECF6",
          "polar": {
           "angularaxis": {
            "gridcolor": "white",
            "linecolor": "white",
            "ticks": ""
           },
           "bgcolor": "#E5ECF6",
           "radialaxis": {
            "gridcolor": "white",
            "linecolor": "white",
            "ticks": ""
           }
          },
          "scene": {
           "xaxis": {
            "backgroundcolor": "#E5ECF6",
            "gridcolor": "white",
            "gridwidth": 2,
            "linecolor": "white",
            "showbackground": true,
            "ticks": "",
            "zerolinecolor": "white"
           },
           "yaxis": {
            "backgroundcolor": "#E5ECF6",
            "gridcolor": "white",
            "gridwidth": 2,
            "linecolor": "white",
            "showbackground": true,
            "ticks": "",
            "zerolinecolor": "white"
           },
           "zaxis": {
            "backgroundcolor": "#E5ECF6",
            "gridcolor": "white",
            "gridwidth": 2,
            "linecolor": "white",
            "showbackground": true,
            "ticks": "",
            "zerolinecolor": "white"
           }
          },
          "shapedefaults": {
           "line": {
            "color": "#2a3f5f"
           }
          },
          "ternary": {
           "aaxis": {
            "gridcolor": "white",
            "linecolor": "white",
            "ticks": ""
           },
           "baxis": {
            "gridcolor": "white",
            "linecolor": "white",
            "ticks": ""
           },
           "bgcolor": "#E5ECF6",
           "caxis": {
            "gridcolor": "white",
            "linecolor": "white",
            "ticks": ""
           }
          },
          "title": {
           "x": 0.05
          },
          "xaxis": {
           "automargin": true,
           "gridcolor": "white",
           "linecolor": "white",
           "ticks": "",
           "title": {
            "standoff": 15
           },
           "zerolinecolor": "white",
           "zerolinewidth": 2
          },
          "yaxis": {
           "automargin": true,
           "gridcolor": "white",
           "linecolor": "white",
           "ticks": "",
           "title": {
            "standoff": 15
           },
           "zerolinecolor": "white",
           "zerolinewidth": 2
          }
         }
        },
        "title": {
         "text": "Soft Debiased Gender - Profession",
         "x": 0.5
        },
        "width": 1000,
        "xaxis": {
         "title": {
          "text": "Word Extremes"
         }
        },
        "yaxis": {
         "title": {
          "text": "Similarity"
         }
        }
       }
      },
      "text/html": [
       "<div>                            <div id=\"1c67a103-959b-469f-8a41-d17cc796564d\" class=\"plotly-graph-div\" style=\"height:1000px; width:1000px;\"></div>            <script type=\"text/javascript\">                require([\"plotly\"], function(Plotly) {                    window.PLOTLYENV=window.PLOTLYENV || {};                                    if (document.getElementById(\"1c67a103-959b-469f-8a41-d17cc796564d\")) {                    Plotly.newPlot(                        \"1c67a103-959b-469f-8a41-d17cc796564d\",                        [{\"mode\":\"markers+text\",\"name\":\"Markers and Text\",\"text\":[\"drug_addict\",\"plastic_surgeon\",\"actor\",\"alter_ego\",\"screenwriter\",\"comic\",\"confesses\",\"psychiatrist\",\"soft_spoken\",\"teenager\",\"neurosurgeon\",\"lawmaker\",\"comedian\",\"singer_songwriter\",\"cartoonist\",\"poet\",\"entrepreneur\",\"parliamentarian\",\"naturalist\",\"homemaker\",\"ambassador\",\"ballerina\",\"assistant_professor\",\"rabbi\",\"infielder\",\"hooker\",\"professor\",\"adjunct_professor\",\"realtor\",\"paralegal\",\"president\",\"attorney\",\"archbishop\",\"firefighter\",\"manager\",\"alderman\",\"associate_dean\",\"dean\",\"employee\",\"landlord\"],\"textposition\":\"bottom center\",\"x\":[-1.0,-0.9487179487179487,-0.8974358974358975,-0.8461538461538461,-0.7948717948717949,-0.7435897435897436,-0.6923076923076923,-0.641025641025641,-0.5897435897435898,-0.5384615384615385,-0.4871794871794872,-0.4358974358974359,-0.3846153846153846,-0.33333333333333337,-0.28205128205128205,-0.23076923076923084,-0.17948717948717952,-0.1282051282051282,-0.07692307692307698,-0.02564102564102566,0.02564102564102555,0.07692307692307687,0.1282051282051282,0.17948717948717952,0.23076923076923084,0.28205128205128194,0.33333333333333326,0.3846153846153846,0.4358974358974359,0.4871794871794872,0.5384615384615383,0.5897435897435896,0.641025641025641,0.6923076923076923,0.7435897435897436,0.7948717948717947,0.846153846153846,0.8974358974358974,0.9487179487179487,1.0],\"y\":[-0.17775480449199677,-0.1667790710926056,-0.16512034833431244,-0.1635032743215561,-0.16339686512947083,-0.15790638327598572,-0.15600740909576416,-0.15448184311389923,-0.1521466225385666,-0.1479950249195099,-0.1431288719177246,-0.1393641084432602,-0.13859978318214417,-0.135640487074852,-0.13466010987758636,-0.13441814482212067,-0.13341785967350006,-0.13248194754123688,-0.13184092938899994,-0.12937965989112854,0.023444434627890587,0.025120576843619347,0.02529635652899742,0.02575148642063141,0.029306761920452118,0.02967105433344841,0.029877174645662308,0.030477456748485565,0.031727470457553864,0.04093029350042343,0.0414787158370018,0.04591336473822594,0.05157700553536415,0.052491024136543274,0.05373286455869675,0.05532369390130043,0.06152582913637161,0.08034580200910568,0.08538012951612473,0.11766038089990616],\"type\":\"scatter\"}],                        {\"height\":1000,\"title\":{\"text\":\"Soft Debiased Gender - Profession\",\"x\":0.5},\"width\":1000,\"xaxis\":{\"title\":{\"text\":\"Word Extremes\"}},\"yaxis\":{\"title\":{\"text\":\"Similarity\"}},\"template\":{\"data\":{\"histogram2dcontour\":[{\"type\":\"histogram2dcontour\",\"colorbar\":{\"outlinewidth\":0,\"ticks\":\"\"},\"colorscale\":[[0.0,\"#0d0887\"],[0.1111111111111111,\"#46039f\"],[0.2222222222222222,\"#7201a8\"],[0.3333333333333333,\"#9c179e\"],[0.4444444444444444,\"#bd3786\"],[0.5555555555555556,\"#d8576b\"],[0.6666666666666666,\"#ed7953\"],[0.7777777777777778,\"#fb9f3a\"],[0.8888888888888888,\"#fdca26\"],[1.0,\"#f0f921\"]]}],\"choropleth\":[{\"type\":\"choropleth\",\"colorbar\":{\"outlinewidth\":0,\"ticks\":\"\"}}],\"histogram2d\":[{\"type\":\"histogram2d\",\"colorbar\":{\"outlinewidth\":0,\"ticks\":\"\"},\"colorscale\":[[0.0,\"#0d0887\"],[0.1111111111111111,\"#46039f\"],[0.2222222222222222,\"#7201a8\"],[0.3333333333333333,\"#9c179e\"],[0.4444444444444444,\"#bd3786\"],[0.5555555555555556,\"#d8576b\"],[0.6666666666666666,\"#ed7953\"],[0.7777777777777778,\"#fb9f3a\"],[0.8888888888888888,\"#fdca26\"],[1.0,\"#f0f921\"]]}],\"heatmap\":[{\"type\":\"heatmap\",\"colorbar\":{\"outlinewidth\":0,\"ticks\":\"\"},\"colorscale\":[[0.0,\"#0d0887\"],[0.1111111111111111,\"#46039f\"],[0.2222222222222222,\"#7201a8\"],[0.3333333333333333,\"#9c179e\"],[0.4444444444444444,\"#bd3786\"],[0.5555555555555556,\"#d8576b\"],[0.6666666666666666,\"#ed7953\"],[0.7777777777777778,\"#fb9f3a\"],[0.8888888888888888,\"#fdca26\"],[1.0,\"#f0f921\"]]}],\"heatmapgl\":[{\"type\":\"heatmapgl\",\"colorbar\":{\"outlinewidth\":0,\"ticks\":\"\"},\"colorscale\":[[0.0,\"#0d0887\"],[0.1111111111111111,\"#46039f\"],[0.2222222222222222,\"#7201a8\"],[0.3333333333333333,\"#9c179e\"],[0.4444444444444444,\"#bd3786\"],[0.5555555555555556,\"#d8576b\"],[0.6666666666666666,\"#ed7953\"],[0.7777777777777778,\"#fb9f3a\"],[0.8888888888888888,\"#fdca26\"],[1.0,\"#f0f921\"]]}],\"contourcarpet\":[{\"type\":\"contourcarpet\",\"colorbar\":{\"outlinewidth\":0,\"ticks\":\"\"}}],\"contour\":[{\"type\":\"contour\",\"colorbar\":{\"outlinewidth\":0,\"ticks\":\"\"},\"colorscale\":[[0.0,\"#0d0887\"],[0.1111111111111111,\"#46039f\"],[0.2222222222222222,\"#7201a8\"],[0.3333333333333333,\"#9c179e\"],[0.4444444444444444,\"#bd3786\"],[0.5555555555555556,\"#d8576b\"],[0.6666666666666666,\"#ed7953\"],[0.7777777777777778,\"#fb9f3a\"],[0.8888888888888888,\"#fdca26\"],[1.0,\"#f0f921\"]]}],\"surface\":[{\"type\":\"surface\",\"colorbar\":{\"outlinewidth\":0,\"ticks\":\"\"},\"colorscale\":[[0.0,\"#0d0887\"],[0.1111111111111111,\"#46039f\"],[0.2222222222222222,\"#7201a8\"],[0.3333333333333333,\"#9c179e\"],[0.4444444444444444,\"#bd3786\"],[0.5555555555555556,\"#d8576b\"],[0.6666666666666666,\"#ed7953\"],[0.7777777777777778,\"#fb9f3a\"],[0.8888888888888888,\"#fdca26\"],[1.0,\"#f0f921\"]]}],\"mesh3d\":[{\"type\":\"mesh3d\",\"colorbar\":{\"outlinewidth\":0,\"ticks\":\"\"}}],\"scatter\":[{\"fillpattern\":{\"fillmode\":\"overlay\",\"size\":10,\"solidity\":0.2},\"type\":\"scatter\"}],\"parcoords\":[{\"type\":\"parcoords\",\"line\":{\"colorbar\":{\"outlinewidth\":0,\"ticks\":\"\"}}}],\"scatterpolargl\":[{\"type\":\"scatterpolargl\",\"marker\":{\"colorbar\":{\"outlinewidth\":0,\"ticks\":\"\"}}}],\"bar\":[{\"error_x\":{\"color\":\"#2a3f5f\"},\"error_y\":{\"color\":\"#2a3f5f\"},\"marker\":{\"line\":{\"color\":\"#E5ECF6\",\"width\":0.5},\"pattern\":{\"fillmode\":\"overlay\",\"size\":10,\"solidity\":0.2}},\"type\":\"bar\"}],\"scattergeo\":[{\"type\":\"scattergeo\",\"marker\":{\"colorbar\":{\"outlinewidth\":0,\"ticks\":\"\"}}}],\"scatterpolar\":[{\"type\":\"scatterpolar\",\"marker\":{\"colorbar\":{\"outlinewidth\":0,\"ticks\":\"\"}}}],\"histogram\":[{\"marker\":{\"pattern\":{\"fillmode\":\"overlay\",\"size\":10,\"solidity\":0.2}},\"type\":\"histogram\"}],\"scattergl\":[{\"type\":\"scattergl\",\"marker\":{\"colorbar\":{\"outlinewidth\":0,\"ticks\":\"\"}}}],\"scatter3d\":[{\"type\":\"scatter3d\",\"line\":{\"colorbar\":{\"outlinewidth\":0,\"ticks\":\"\"}},\"marker\":{\"colorbar\":{\"outlinewidth\":0,\"ticks\":\"\"}}}],\"scattermapbox\":[{\"type\":\"scattermapbox\",\"marker\":{\"colorbar\":{\"outlinewidth\":0,\"ticks\":\"\"}}}],\"scatterternary\":[{\"type\":\"scatterternary\",\"marker\":{\"colorbar\":{\"outlinewidth\":0,\"ticks\":\"\"}}}],\"scattercarpet\":[{\"type\":\"scattercarpet\",\"marker\":{\"colorbar\":{\"outlinewidth\":0,\"ticks\":\"\"}}}],\"carpet\":[{\"aaxis\":{\"endlinecolor\":\"#2a3f5f\",\"gridcolor\":\"white\",\"linecolor\":\"white\",\"minorgridcolor\":\"white\",\"startlinecolor\":\"#2a3f5f\"},\"baxis\":{\"endlinecolor\":\"#2a3f5f\",\"gridcolor\":\"white\",\"linecolor\":\"white\",\"minorgridcolor\":\"white\",\"startlinecolor\":\"#2a3f5f\"},\"type\":\"carpet\"}],\"table\":[{\"cells\":{\"fill\":{\"color\":\"#EBF0F8\"},\"line\":{\"color\":\"white\"}},\"header\":{\"fill\":{\"color\":\"#C8D4E3\"},\"line\":{\"color\":\"white\"}},\"type\":\"table\"}],\"barpolar\":[{\"marker\":{\"line\":{\"color\":\"#E5ECF6\",\"width\":0.5},\"pattern\":{\"fillmode\":\"overlay\",\"size\":10,\"solidity\":0.2}},\"type\":\"barpolar\"}],\"pie\":[{\"automargin\":true,\"type\":\"pie\"}]},\"layout\":{\"autotypenumbers\":\"strict\",\"colorway\":[\"#636efa\",\"#EF553B\",\"#00cc96\",\"#ab63fa\",\"#FFA15A\",\"#19d3f3\",\"#FF6692\",\"#B6E880\",\"#FF97FF\",\"#FECB52\"],\"font\":{\"color\":\"#2a3f5f\"},\"hovermode\":\"closest\",\"hoverlabel\":{\"align\":\"left\"},\"paper_bgcolor\":\"white\",\"plot_bgcolor\":\"#E5ECF6\",\"polar\":{\"bgcolor\":\"#E5ECF6\",\"angularaxis\":{\"gridcolor\":\"white\",\"linecolor\":\"white\",\"ticks\":\"\"},\"radialaxis\":{\"gridcolor\":\"white\",\"linecolor\":\"white\",\"ticks\":\"\"}},\"ternary\":{\"bgcolor\":\"#E5ECF6\",\"aaxis\":{\"gridcolor\":\"white\",\"linecolor\":\"white\",\"ticks\":\"\"},\"baxis\":{\"gridcolor\":\"white\",\"linecolor\":\"white\",\"ticks\":\"\"},\"caxis\":{\"gridcolor\":\"white\",\"linecolor\":\"white\",\"ticks\":\"\"}},\"coloraxis\":{\"colorbar\":{\"outlinewidth\":0,\"ticks\":\"\"}},\"colorscale\":{\"sequential\":[[0.0,\"#0d0887\"],[0.1111111111111111,\"#46039f\"],[0.2222222222222222,\"#7201a8\"],[0.3333333333333333,\"#9c179e\"],[0.4444444444444444,\"#bd3786\"],[0.5555555555555556,\"#d8576b\"],[0.6666666666666666,\"#ed7953\"],[0.7777777777777778,\"#fb9f3a\"],[0.8888888888888888,\"#fdca26\"],[1.0,\"#f0f921\"]],\"sequentialminus\":[[0.0,\"#0d0887\"],[0.1111111111111111,\"#46039f\"],[0.2222222222222222,\"#7201a8\"],[0.3333333333333333,\"#9c179e\"],[0.4444444444444444,\"#bd3786\"],[0.5555555555555556,\"#d8576b\"],[0.6666666666666666,\"#ed7953\"],[0.7777777777777778,\"#fb9f3a\"],[0.8888888888888888,\"#fdca26\"],[1.0,\"#f0f921\"]],\"diverging\":[[0,\"#8e0152\"],[0.1,\"#c51b7d\"],[0.2,\"#de77ae\"],[0.3,\"#f1b6da\"],[0.4,\"#fde0ef\"],[0.5,\"#f7f7f7\"],[0.6,\"#e6f5d0\"],[0.7,\"#b8e186\"],[0.8,\"#7fbc41\"],[0.9,\"#4d9221\"],[1,\"#276419\"]]},\"xaxis\":{\"gridcolor\":\"white\",\"linecolor\":\"white\",\"ticks\":\"\",\"title\":{\"standoff\":15},\"zerolinecolor\":\"white\",\"automargin\":true,\"zerolinewidth\":2},\"yaxis\":{\"gridcolor\":\"white\",\"linecolor\":\"white\",\"ticks\":\"\",\"title\":{\"standoff\":15},\"zerolinecolor\":\"white\",\"automargin\":true,\"zerolinewidth\":2},\"scene\":{\"xaxis\":{\"backgroundcolor\":\"#E5ECF6\",\"gridcolor\":\"white\",\"linecolor\":\"white\",\"showbackground\":true,\"ticks\":\"\",\"zerolinecolor\":\"white\",\"gridwidth\":2},\"yaxis\":{\"backgroundcolor\":\"#E5ECF6\",\"gridcolor\":\"white\",\"linecolor\":\"white\",\"showbackground\":true,\"ticks\":\"\",\"zerolinecolor\":\"white\",\"gridwidth\":2},\"zaxis\":{\"backgroundcolor\":\"#E5ECF6\",\"gridcolor\":\"white\",\"linecolor\":\"white\",\"showbackground\":true,\"ticks\":\"\",\"zerolinecolor\":\"white\",\"gridwidth\":2}},\"shapedefaults\":{\"line\":{\"color\":\"#2a3f5f\"}},\"annotationdefaults\":{\"arrowcolor\":\"#2a3f5f\",\"arrowhead\":0,\"arrowwidth\":1},\"geo\":{\"bgcolor\":\"white\",\"landcolor\":\"#E5ECF6\",\"subunitcolor\":\"white\",\"showland\":true,\"showlakes\":true,\"lakecolor\":\"white\"},\"title\":{\"x\":0.05},\"mapbox\":{\"style\":\"light\"}}}},                        {\"responsive\": true}                    ).then(function(){\n",
       "                            \n",
       "var gd = document.getElementById('1c67a103-959b-469f-8a41-d17cc796564d');\n",
       "var x = new MutationObserver(function (mutations, observer) {{\n",
       "        var display = window.getComputedStyle(gd).display;\n",
       "        if (!display || display === 'none') {{\n",
       "            console.log([gd, 'removed!']);\n",
       "            Plotly.purge(gd);\n",
       "            observer.disconnect();\n",
       "        }}\n",
       "}});\n",
       "\n",
       "// Listen for the removal of the full notebook cells\n",
       "var notebookContainer = gd.closest('#notebook-container');\n",
       "if (notebookContainer) {{\n",
       "    x.observe(notebookContainer, {childList: true});\n",
       "}}\n",
       "\n",
       "// Listen for the clearing of the current output cell\n",
       "var outputEl = gd.closest('.output');\n",
       "if (outputEl) {{\n",
       "    x.observe(outputEl, {childList: true});\n",
       "}}\n",
       "\n",
       "                        })                };                });            </script>        </div>"
      ]
     },
     "metadata": {},
     "output_type": "display_data"
    }
   ],
   "source": [
    "plot_words_extreme(sp_softdebiased[:20], sp_softdebiased[-20:], 40, x_title='Word Extremes', y_title='Similarity', \n",
    "title='Soft Debiased Gender - Profession')"
   ]
  },
  {
   "cell_type": "code",
   "execution_count": null,
   "metadata": {},
   "outputs": [],
   "source": []
  }
 ],
 "metadata": {
  "kernelspec": {
   "display_name": "Python 3 (ipykernel)",
   "language": "python",
   "name": "python3"
  },
  "language_info": {
   "codemirror_mode": {
    "name": "ipython",
    "version": 3
   },
   "file_extension": ".py",
   "mimetype": "text/x-python",
   "name": "python",
   "nbconvert_exporter": "python",
   "pygments_lexer": "ipython3",
   "version": "3.8.10"
  }
 },
 "nbformat": 4,
 "nbformat_minor": 2
}
